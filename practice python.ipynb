{
 "cells": [
  {
   "cell_type": "code",
   "execution_count": 1,
   "id": "22968c35-3c24-4e62-b45a-486aec53bfb5",
   "metadata": {},
   "outputs": [
    {
     "name": "stdout",
     "output_type": "stream",
     "text": [
      "5\n",
      "john\n"
     ]
    }
   ],
   "source": [
    "x=5\n",
    "y=\"john\"\n",
    "print(x)\n",
    "print(y)"
   ]
  },
  {
   "cell_type": "code",
   "execution_count": 3,
   "id": "b97f8985-aea9-436f-a485-dcbb3d16cb6a",
   "metadata": {},
   "outputs": [
    {
     "name": "stdout",
     "output_type": "stream",
     "text": [
      "gagan\n"
     ]
    }
   ],
   "source": [
    "x=\"gagan\"\n",
    "print(x)"
   ]
  },
  {
   "cell_type": "code",
   "execution_count": 13,
   "id": "667f13a5-54fb-47cc-97d7-0a3da28a0e2e",
   "metadata": {},
   "outputs": [
    {
     "name": "stdout",
     "output_type": "stream",
     "text": [
      "gagan\n"
     ]
    }
   ],
   "source": [
    "x=4\n",
    "x=\"gagan\"\n",
    "print(x)"
   ]
  },
  {
   "cell_type": "code",
   "execution_count": 19,
   "id": "6ff265fd-cee1-4f31-ae0c-e226d8e67953",
   "metadata": {},
   "outputs": [
    {
     "name": "stdout",
     "output_type": "stream",
     "text": [
      "<class 'int'>\n",
      "<class 'str'>\n"
     ]
    }
   ],
   "source": [
    "x=4\n",
    "y=\"gagan\"\n",
    "print(type(x))\n",
    "print(type(y))"
   ]
  },
  {
   "cell_type": "code",
   "execution_count": 25,
   "id": "0465df7c-bf02-4952-94fe-d2d28f495c4f",
   "metadata": {},
   "outputs": [
    {
     "name": "stdout",
     "output_type": "stream",
     "text": [
      "john\n"
     ]
    }
   ],
   "source": [
    "x=\"john\"\n",
    "x='john'\n",
    "print(x)"
   ]
  },
  {
   "cell_type": "code",
   "execution_count": 29,
   "id": "3cb1d079-119d-4004-a995-6919091c5a90",
   "metadata": {},
   "outputs": [
    {
     "name": "stdout",
     "output_type": "stream",
     "text": [
      "6\n"
     ]
    }
   ],
   "source": [
    "a= 6\n",
    "A=\"gagan\"\n",
    "print(a)"
   ]
  },
  {
   "cell_type": "code",
   "execution_count": 37,
   "id": "48fc2613-8e87-48b4-bcaa-e25197fde501",
   "metadata": {},
   "outputs": [
    {
     "name": "stdout",
     "output_type": "stream",
     "text": [
      "54\n"
     ]
    }
   ],
   "source": [
    "print(45+9)"
   ]
  },
  {
   "cell_type": "code",
   "execution_count": 43,
   "id": "ce3fb83a-e0c5-4a2d-a404-6a5edd61fcdb",
   "metadata": {},
   "outputs": [
    {
     "name": "stdout",
     "output_type": "stream",
     "text": [
      "54\n"
     ]
    }
   ],
   "source": [
    "print(6+8*6)\n"
   ]
  },
  {
   "cell_type": "code",
   "execution_count": 45,
   "id": "8b24d822-cbd3-4d0a-9889-c66cfc6ea5b8",
   "metadata": {},
   "outputs": [
    {
     "name": "stdout",
     "output_type": "stream",
     "text": [
      "['gagan', 'mannu', 'harsh', 'rahul', 'komal']\n"
     ]
    }
   ],
   "source": [
    "L1=[\"gagan\",\"mannu\",\"harsh\",\"rahul\",\"komal\"]\n",
    "print(L1)"
   ]
  },
  {
   "cell_type": "code",
   "execution_count": 47,
   "id": "cd67bfcf-8995-493a-94ad-9a284d3882ef",
   "metadata": {},
   "outputs": [
    {
     "name": "stdout",
     "output_type": "stream",
     "text": [
      "5\n"
     ]
    }
   ],
   "source": [
    "L1=[\"gagan\",\"mannu\",\"harsh\",\"rahul\",\"komal\"]\n",
    "print(len(L1))"
   ]
  },
  {
   "cell_type": "code",
   "execution_count": 51,
   "id": "dd560f20-3f03-47b8-94ae-069a8bfb8b4a",
   "metadata": {},
   "outputs": [
    {
     "name": "stdout",
     "output_type": "stream",
     "text": [
      "['gagan', 'mannu', 'harsh', 'rahul', 'komal']\n",
      "[1, 2, 3, 4, 5]\n"
     ]
    }
   ],
   "source": [
    "L1=[\"gagan\",\"mannu\",\"harsh\",\"rahul\",\"komal\"]\n",
    "L2=[1,2,3,4,5]\n",
    "print(L1)\n",
    "print(L2)"
   ]
  },
  {
   "cell_type": "code",
   "execution_count": 32,
   "id": "476d319d-2067-4e1e-aa46-9e539d489dac",
   "metadata": {},
   "outputs": [
    {
     "name": "stdout",
     "output_type": "stream",
     "text": [
      "5\n",
      "5\n"
     ]
    }
   ],
   "source": [
    "L1=[\"gagan\",\"mannu\",\"harsh\",\"rahul\",\"komal\"]\n",
    "L2=[1,2,3,4,5]\n",
    "print(len(L1))\n",
    "print(len(L2))"
   ]
  },
  {
   "cell_type": "code",
   "execution_count": 69,
   "id": "e0319ec5-5ba3-4871-a20c-2a27f584828e",
   "metadata": {},
   "outputs": [
    {
     "name": "stdout",
     "output_type": "stream",
     "text": [
      "['gagan', 45, True, 34, 'male']\n"
     ]
    }
   ],
   "source": [
    "L1=[\"gagan\",45,True,34,\"male\"]\n",
    "print(L1)"
   ]
  },
  {
   "cell_type": "code",
   "execution_count": 71,
   "id": "e27351f0-70c0-445e-92eb-77ec3ba2e233",
   "metadata": {},
   "outputs": [
    {
     "name": "stdout",
     "output_type": "stream",
     "text": [
      "<class 'list'>\n"
     ]
    }
   ],
   "source": [
    "L1=[\"gagan\",\"mannu\",\"harsh\",\"rahul\",\"komal\"]\n",
    "print(type(L1))"
   ]
  },
  {
   "cell_type": "code",
   "execution_count": 73,
   "id": "31260061-4fd4-419a-bece-ad77c240ffea",
   "metadata": {},
   "outputs": [
    {
     "name": "stdout",
     "output_type": "stream",
     "text": [
      "['gagan', 'mannu', 'harsh', 'rahul', 'komal']\n"
     ]
    }
   ],
   "source": [
    "L1=list((\"gagan\",\"mannu\",\"harsh\",\"rahul\",\"komal\"))\n",
    "print(L1)"
   ]
  },
  {
   "cell_type": "code",
   "execution_count": 75,
   "id": "7f2781a0-a32c-4cfc-9a43-13a48bcc7905",
   "metadata": {},
   "outputs": [
    {
     "name": "stdout",
     "output_type": "stream",
     "text": [
      "('apple', 'banana', 'cherry')\n"
     ]
    }
   ],
   "source": [
    "thistuple=(\"apple\",\"banana\",\"cherry\")\n",
    "print(thistuple)"
   ]
  },
  {
   "cell_type": "code",
   "execution_count": 77,
   "id": "419d9310-d22f-4a71-ba6f-525056e636e0",
   "metadata": {},
   "outputs": [
    {
     "name": "stdout",
     "output_type": "stream",
     "text": [
      "('apple', 'banana', 'cherry', 'apple', 'cherry')\n"
     ]
    }
   ],
   "source": [
    "thistuple=(\"apple\",\"banana\",\"cherry\",\"apple\",\"cherry\")\n",
    "print(thistuple)"
   ]
  },
  {
   "cell_type": "code",
   "execution_count": 79,
   "id": "ae361352-eecd-4d07-be6f-442fcd4d0f45",
   "metadata": {},
   "outputs": [
    {
     "name": "stdout",
     "output_type": "stream",
     "text": [
      "5\n"
     ]
    }
   ],
   "source": [
    "thistuple=(\"apple\",\"banana\",\"cherry\",\"apple\",\"cherry\")\n",
    "print(len(thistuple))"
   ]
  },
  {
   "cell_type": "code",
   "execution_count": 83,
   "id": "b08e2de6-78a6-4e8f-b85e-0b9fc146bdc2",
   "metadata": {},
   "outputs": [
    {
     "name": "stdout",
     "output_type": "stream",
     "text": [
      "<class 'tuple'>\n"
     ]
    }
   ],
   "source": [
    "thistuple=(\"apple\",)\n",
    "print(type(thistuple))"
   ]
  },
  {
   "cell_type": "code",
   "execution_count": 85,
   "id": "74ad876e-4041-48f0-859b-64e8a12193a8",
   "metadata": {},
   "outputs": [
    {
     "name": "stdout",
     "output_type": "stream",
     "text": [
      "<class 'str'>\n"
     ]
    }
   ],
   "source": [
    "thistuple=(\"apple\")\n",
    "print(type(thistuple))"
   ]
  },
  {
   "cell_type": "code",
   "execution_count": 91,
   "id": "6ee9b78c-7258-43b0-93c1-0441ece2795d",
   "metadata": {},
   "outputs": [
    {
     "name": "stdout",
     "output_type": "stream",
     "text": [
      "('apple', 'bannana', 'cherry')\n",
      "(1, 2, 3, 4)\n",
      "(True, False, False)\n"
     ]
    }
   ],
   "source": [
    "tuple1=(\"apple\",\"bannana\",\"cherry\")\n",
    "tuple2=(1,2,3,4)\n",
    "tuple3=(True,False,False)\n",
    "print(tuple1)\n",
    "print(tuple2)\n",
    "print(tuple3)"
   ]
  },
  {
   "cell_type": "code",
   "execution_count": 97,
   "id": "d4df5677-dcf1-46dc-b688-4f4be9ce59eb",
   "metadata": {},
   "outputs": [
    {
     "name": "stdout",
     "output_type": "stream",
     "text": [
      "('apple', 3, True, 'cherry', False)\n"
     ]
    }
   ],
   "source": [
    "tuple1=(\"apple\",3,True,\"cherry\",False)\n",
    "print(tuple1)"
   ]
  },
  {
   "cell_type": "code",
   "execution_count": 9,
   "id": "7ffc2429-a8e5-4367-9e2c-e9e35b9dfb87",
   "metadata": {},
   "outputs": [
    {
     "name": "stdout",
     "output_type": "stream",
     "text": [
      "('apple', 'bananna', 'cherry')\n"
     ]
    }
   ],
   "source": [
    "mytuple=(\"apple\",\"bananna\",\"cherry\")\n",
    "print(mytuple)"
   ]
  },
  {
   "cell_type": "code",
   "execution_count": 15,
   "id": "517472b0-a600-46ec-aade-78d5c3d98699",
   "metadata": {},
   "outputs": [
    {
     "name": "stdout",
     "output_type": "stream",
     "text": [
      "b is not greater than a\n"
     ]
    }
   ],
   "source": [
    "a = 200\n",
    "b = 100\n",
    "\n",
    "if b > a:\n",
    "  print(\"b is greater than a\")\n",
    "else:\n",
    "  print(\"b is not greater than a\")"
   ]
  },
  {
   "cell_type": "code",
   "execution_count": 23,
   "id": "ca3a11c9-779e-4453-8988-090edfefb61d",
   "metadata": {},
   "outputs": [
    {
     "name": "stdout",
     "output_type": "stream",
     "text": [
      "y na\n"
     ]
    }
   ],
   "source": [
    "L1= \"my name is gagan\"\n",
    "print(L1[1:5])"
   ]
  },
  {
   "cell_type": "code",
   "execution_count": 25,
   "id": "4ed0c60e-9329-4e2d-b9ad-570398d90dd8",
   "metadata": {},
   "outputs": [
    {
     "name": "stdout",
     "output_type": "stream",
     "text": [
      "y name\n"
     ]
    }
   ],
   "source": [
    "L1= \"my name is gagan\"\n",
    "print(L1[1:7])"
   ]
  },
  {
   "cell_type": "code",
   "execution_count": 31,
   "id": "e25c7b7c-f497-4d65-ad51-6d6b80214fc1",
   "metadata": {},
   "outputs": [
    {
     "name": "stdout",
     "output_type": "stream",
     "text": [
      "my name is gagan\n"
     ]
    }
   ],
   "source": [
    "L1= \"my name is gagan\"\n",
    "print(L1[:16])"
   ]
  },
  {
   "cell_type": "code",
   "execution_count": 39,
   "id": "46b17b25-e1b1-458a-8991-37eb3ea69cbe",
   "metadata": {},
   "outputs": [
    {
     "name": "stdout",
     "output_type": "stream",
     "text": [
      "my name is gagan\n"
     ]
    }
   ],
   "source": [
    "L1= \"my name is gagan\"\n",
    "print(L1[1:])"
   ]
  },
  {
   "cell_type": "code",
   "execution_count": 41,
   "id": "1ec69afe-e1d0-48e3-919a-b86a9bbb3150",
   "metadata": {},
   "outputs": [
    {
     "name": "stdout",
     "output_type": "stream",
     "text": [
      "n\n"
     ]
    }
   ],
   "source": [
    "L1= \"my name is gagan\"\n",
    "print(L1[-1:])"
   ]
  },
  {
   "cell_type": "code",
   "execution_count": 47,
   "id": "6724bd73-a9f6-4473-ac33-ab0757bddbc5",
   "metadata": {},
   "outputs": [
    {
     "name": "stdout",
     "output_type": "stream",
     "text": [
      "gag\n"
     ]
    }
   ],
   "source": [
    "L1= \"my name is gagan\"\n",
    "print(L1[-5:-2])"
   ]
  },
  {
   "cell_type": "code",
   "execution_count": 49,
   "id": "3ca06f1f-038b-41c4-b657-3776d6132947",
   "metadata": {},
   "outputs": [
    {
     "name": "stdout",
     "output_type": "stream",
     "text": [
      "ame is ga\n"
     ]
    }
   ],
   "source": [
    "L1= \"my name is gagan\"\n",
    "print(L1[-12:-3])"
   ]
  },
  {
   "cell_type": "code",
   "execution_count": 51,
   "id": "d0c80090-60b5-4b14-bc0a-dfefc6dc3869",
   "metadata": {},
   "outputs": [
    {
     "name": "stdout",
     "output_type": "stream",
     "text": [
      "MY NAME IS GAGAN\n"
     ]
    }
   ],
   "source": [
    "L1= \"My Name is Gagan\"\n",
    "print(L1.upper())"
   ]
  },
  {
   "cell_type": "code",
   "execution_count": 53,
   "id": "6ba2b71a-912c-4eab-959f-fccd34ffcccd",
   "metadata": {},
   "outputs": [
    {
     "name": "stdout",
     "output_type": "stream",
     "text": [
      "my name is gagan\n"
     ]
    }
   ],
   "source": [
    "L1= \"My Name is Gagan\"\n",
    "print(L1.lower())"
   ]
  },
  {
   "cell_type": "code",
   "execution_count": 55,
   "id": "f38d14fd-4269-4079-b2fe-e5abf3dfde9b",
   "metadata": {},
   "outputs": [
    {
     "name": "stdout",
     "output_type": "stream",
     "text": [
      "My Name is Jagan\n"
     ]
    }
   ],
   "source": [
    "L1= \"My Name is Gagan\"\n",
    "print(L1.replace(\"G\",\"J\"))"
   ]
  },
  {
   "cell_type": "code",
   "execution_count": 57,
   "id": "a39a58ec-8582-4c9b-82ca-880172e9da40",
   "metadata": {},
   "outputs": [
    {
     "name": "stdout",
     "output_type": "stream",
     "text": [
      "HelloWorld\n"
     ]
    }
   ],
   "source": [
    "a = \"Hello\"\n",
    "b = \"World\"\n",
    "c = a + b\n",
    "print(c)"
   ]
  },
  {
   "cell_type": "code",
   "execution_count": 59,
   "id": "f44516d9-5d69-4a66-89c8-4b276cac4fda",
   "metadata": {},
   "outputs": [
    {
     "name": "stdout",
     "output_type": "stream",
     "text": [
      "Hello World\n"
     ]
    }
   ],
   "source": [
    "a = \"Hello\"\n",
    "b = \"World\"\n",
    "c = a+\" \"+ b\n",
    "print(c)"
   ]
  },
  {
   "cell_type": "code",
   "execution_count": 63,
   "id": "02dc94e1-7c80-4d3f-80c5-8d64277870a5",
   "metadata": {},
   "outputs": [
    {
     "name": "stdout",
     "output_type": "stream",
     "text": [
      "my name is gagan and i am 22\n"
     ]
    }
   ],
   "source": [
    "age= 22\n",
    "txt=f\"my name is gagan and i am {age}\"\n",
    "print(txt)"
   ]
  },
  {
   "cell_type": "code",
   "execution_count": 71,
   "id": "bd3fea9d-7fe1-4743-bbd2-b2962e6a1e3d",
   "metadata": {},
   "outputs": [
    {
     "name": "stdout",
     "output_type": "stream",
     "text": [
      "the average 500 kg weight is a pertcular container\n"
     ]
    }
   ],
   "source": [
    "quantity = 500\n",
    "txt=f\"the average {quantity} kg weight is a pertcular container\"\n",
    "print(txt)"
   ]
  },
  {
   "cell_type": "code",
   "execution_count": 79,
   "id": "6cbe580e-d6ea-4db4-9acf-ba53c5b7ea3c",
   "metadata": {},
   "outputs": [
    {
     "name": "stdout",
     "output_type": "stream",
     "text": [
      "4\n"
     ]
    }
   ],
   "source": [
    "print((7 + 3) - (3 + 3))"
   ]
  },
  {
   "cell_type": "code",
   "execution_count": 81,
   "id": "d425ff24-c31a-432e-b337-2645695e31e2",
   "metadata": {},
   "outputs": [
    {
     "name": "stdout",
     "output_type": "stream",
     "text": [
      "81\n"
     ]
    }
   ],
   "source": [
    "print((6 + 3) * (6 + 3))"
   ]
  },
  {
   "cell_type": "code",
   "execution_count": 83,
   "id": "bc18d542-aa4b-4604-9fe5-90079183d5b7",
   "metadata": {},
   "outputs": [
    {
     "name": "stdout",
     "output_type": "stream",
     "text": [
      "1.0\n"
     ]
    }
   ],
   "source": [
    "print((6 + 3) / (6 + 3))"
   ]
  },
  {
   "cell_type": "code",
   "execution_count": 87,
   "id": "2a7c080d-f0af-4e55-9b9f-7f3034bdba7d",
   "metadata": {},
   "outputs": [
    {
     "name": "stdout",
     "output_type": "stream",
     "text": [
      "['gagan', 'saksham', 'aditya', 'namit', 'varun']\n"
     ]
    }
   ],
   "source": [
    "L1=[\"gagan\",\"saksham\",\"aditya\",\"atul\",\"varun\"]\n",
    "L1[3]= \"namit\"\n",
    "print(L1)"
   ]
  },
  {
   "cell_type": "code",
   "execution_count": 89,
   "id": "14fab4e8-3a14-4ca9-b0e1-695887c08056",
   "metadata": {},
   "outputs": [
    {
     "name": "stdout",
     "output_type": "stream",
     "text": [
      "['gagan', 'namit', 'aditya', 'atul', 'varun']\n"
     ]
    }
   ],
   "source": [
    "L1=[\"gagan\",\"saksham\",\"aditya\",\"atul\",\"varun\"]\n",
    "L1[1]= \"namit\"\n",
    "print(L1)"
   ]
  },
  {
   "cell_type": "code",
   "execution_count": 91,
   "id": "0321c06d-c94a-4fb9-8386-0d22b3b60d31",
   "metadata": {},
   "outputs": [
    {
     "name": "stdout",
     "output_type": "stream",
     "text": [
      "['gagan', 'saksham', 'aditya', 'namit', 'varun']\n"
     ]
    }
   ],
   "source": [
    "L1=[\"gagan\",\"saksham\",\"aditya\",\"atul\",\"varun\"]\n",
    "L1[-2]= \"namit\"\n",
    "print(L1)"
   ]
  },
  {
   "cell_type": "code",
   "execution_count": 97,
   "id": "c7b7ef4c-eea2-4e7a-830f-bd0740a64fbb",
   "metadata": {},
   "outputs": [
    {
     "name": "stdout",
     "output_type": "stream",
     "text": [
      "['gagan', 'saksham', 'n', 'a', 'm', 'i', 't', 'atul', 'varun']\n"
     ]
    }
   ],
   "source": [
    "L1=[\"gagan\",\"saksham\",\"aditya\",\"atul\",\"varun\"]\n",
    "L1[2:3]= \"namit\"\n",
    "print(L1)"
   ]
  },
  {
   "cell_type": "code",
   "execution_count": 101,
   "id": "176bb4c1-5745-4efe-afa0-98e62b3d7a85",
   "metadata": {},
   "outputs": [
    {
     "name": "stdout",
     "output_type": "stream",
     "text": [
      "['gagan', 'saksham', 'mannu', 'aditya', 'atul', 'varun']\n"
     ]
    }
   ],
   "source": [
    "L1=[\"gagan\",\"saksham\",\"aditya\",\"atul\",\"varun\"]\n",
    "L1.insert(2,\"mannu\")\n",
    "print(L1)"
   ]
  },
  {
   "cell_type": "code",
   "execution_count": 103,
   "id": "11076410-972e-46f8-9b8a-938fb070a227",
   "metadata": {},
   "outputs": [
    {
     "name": "stdout",
     "output_type": "stream",
     "text": [
      "['gagan', 'saksham', 'aditya', 'atul', 'varun', 'namit']\n"
     ]
    }
   ],
   "source": [
    "L1=[\"gagan\",\"saksham\",\"aditya\",\"atul\",\"varun\"]\n",
    "L1.append(\"namit\")\n",
    "print(L1)"
   ]
  },
  {
   "cell_type": "code",
   "execution_count": 105,
   "id": "97b3c483-9013-44c6-b752-92c0180ff43e",
   "metadata": {},
   "outputs": [
    {
     "name": "stdout",
     "output_type": "stream",
     "text": [
      "['gagan', 'saksham', 'aditya', 'atul', 'varun', 1, 2, 3, 4, 5]\n"
     ]
    }
   ],
   "source": [
    "L1=[\"gagan\",\"saksham\",\"aditya\",\"atul\",\"varun\"]\n",
    "L2=[1,2,3,4,5]\n",
    "L3= L1+L2\n",
    "print(L3)"
   ]
  },
  {
   "cell_type": "code",
   "execution_count": 3,
   "id": "6b087dec-0f1e-477a-a0c9-9430ebed5f66",
   "metadata": {},
   "outputs": [
    {
     "name": "stdout",
     "output_type": "stream",
     "text": [
      "apple\n",
      "banana\n",
      "cherry\n"
     ]
    }
   ],
   "source": [
    "L1 = [\"apple\", \"banana\", \"cherry\"]\n",
    "for x in L1:\n",
    "  print(x)"
   ]
  },
  {
   "cell_type": "code",
   "execution_count": 9,
   "id": "6fc8f04f-45df-4e2b-9b2c-94ba77075ea1",
   "metadata": {},
   "outputs": [
    {
     "name": "stdout",
     "output_type": "stream",
     "text": [
      "1\n",
      "2\n",
      "3\n",
      "4\n"
     ]
    }
   ],
   "source": [
    "L1=[1,2,3,4]\n",
    "for x in L1:\n",
    "    print(x)"
   ]
  },
  {
   "cell_type": "code",
   "execution_count": 11,
   "id": "87e1c2ec-ccd3-46ba-8f5e-952a8daee5ec",
   "metadata": {},
   "outputs": [
    {
     "name": "stdout",
     "output_type": "stream",
     "text": [
      "gagan\n",
      "2\n",
      "hopper\n",
      "True\n",
      "4\n"
     ]
    }
   ],
   "source": [
    "L1=[\"gagan\",2,\"hopper\",True,4]\n",
    "for x in L1:\n",
    "    print(x)\n"
   ]
  },
  {
   "cell_type": "code",
   "execution_count": 3,
   "id": "b37d8e73-9095-45c7-912e-4465403e4a78",
   "metadata": {},
   "outputs": [
    {
     "name": "stdout",
     "output_type": "stream",
     "text": [
      "['apple', 'banana', 'mango']\n"
     ]
    }
   ],
   "source": [
    "fruits = [\"apple\", \"banana\", \"cherry\", \"kiwi\", \"mango\"]\n",
    "vegie = []\n",
    "\n",
    "for x in fruits:\n",
    "  if \"a\" in x:\n",
    "    vegie.append(x)\n",
    "\n",
    "print(vegie)\n"
   ]
  },
  {
   "cell_type": "code",
   "execution_count": 31,
   "id": "e261b7bc-6a16-4c23-9fdc-34916ddd1508",
   "metadata": {},
   "outputs": [
    {
     "name": "stdout",
     "output_type": "stream",
     "text": [
      "['aman', 'gagan', 'kosjhik', 'mannu', 'prachi', 'saksham']\n"
     ]
    }
   ],
   "source": [
    "L1=[\"gagan\",\"prachi\",\"aman\",\"mannu\",\"kosjhik\",\"saksham\"]\n",
    "L1.sort()\n",
    "print(L1)"
   ]
  },
  {
   "cell_type": "code",
   "execution_count": 37,
   "id": "bd6952ac-7e64-4cdf-9210-de2ee0083eb1",
   "metadata": {},
   "outputs": [
    {
     "name": "stdout",
     "output_type": "stream",
     "text": [
      "[28, 45, 65, 74, 84, 100]\n"
     ]
    }
   ],
   "source": [
    "L1=[45,74,84,28,65,100]\n",
    "L1.sort()\n",
    "print(L1)"
   ]
  },
  {
   "cell_type": "code",
   "execution_count": 41,
   "id": "95f06fb5-0f7d-487a-b4e9-b3e72a8a160a",
   "metadata": {},
   "outputs": [
    {
     "name": "stdout",
     "output_type": "stream",
     "text": [
      "['saksham', 'prachi', 'mannu', 'kosjhik', 'gagan', 'aman']\n"
     ]
    }
   ],
   "source": [
    "L1=[\"gagan\",\"prachi\",\"aman\",\"mannu\",\"kosjhik\",\"saksham\"]\n",
    "L1.sort(reverse = True)\n",
    "print(L1)"
   ]
  },
  {
   "cell_type": "code",
   "execution_count": 45,
   "id": "062df9ac-f684-4b48-833b-43d383754100",
   "metadata": {},
   "outputs": [
    {
     "name": "stdout",
     "output_type": "stream",
     "text": [
      "[100, 84, 74, 65, 45, 28]\n"
     ]
    }
   ],
   "source": [
    "L1=[45,74,84,28,65,100]\n",
    "L1.sort(reverse = True)\n",
    "print(L1)"
   ]
  },
  {
   "cell_type": "code",
   "execution_count": 23,
   "id": "87846cee-5d14-48bc-93c0-3866cc6f6e5b",
   "metadata": {},
   "outputs": [
    {
     "name": "stdout",
     "output_type": "stream",
     "text": [
      "('apple', 'banana', 'cherry')\n",
      "(1, 5, 7, 9, 3)\n",
      "(True, False, False)\n"
     ]
    }
   ],
   "source": [
    "mytuple1 = (\"apple\", \"banana\", \"cherry\")\n",
    "mytuple2 = (1, 5, 7, 9, 3)\n",
    "mytuple3 = (True, False, False)\n",
    "\n",
    "print(mytuple1)\n",
    "print(mytuple2)\n",
    "print(mytuple3)"
   ]
  },
  {
   "cell_type": "code",
   "execution_count": 51,
   "id": "e5a51381-d306-4037-9a18-05b4c5dfd294",
   "metadata": {},
   "outputs": [
    {
     "name": "stdout",
     "output_type": "stream",
     "text": [
      "b is greater than a\n"
     ]
    }
   ],
   "source": [
    "a = 50\n",
    "b = 100\n",
    "if b > a:\n",
    "    print(\"b is greater than a\")"
   ]
  },
  {
   "cell_type": "code",
   "execution_count": 61,
   "id": "c1f66c8e-dbbc-4258-8851-dd2b16bd87a9",
   "metadata": {},
   "outputs": [
    {
     "name": "stdout",
     "output_type": "stream",
     "text": [
      "b is equal to a\n"
     ]
    }
   ],
   "source": [
    "a = 100\n",
    "b = 100\n",
    "if b > a:\n",
    "    print(\"b is greater than a\")\n",
    "elif b == a:\n",
    "    print(\"b is equal to a\")"
   ]
  },
  {
   "cell_type": "code",
   "execution_count": 67,
   "id": "b63279b4-bd90-410c-bf7c-741b40ed25a0",
   "metadata": {},
   "outputs": [
    {
     "name": "stdout",
     "output_type": "stream",
     "text": [
      "a is smaller than  b\n"
     ]
    }
   ],
   "source": [
    "a = 100\n",
    "b = 200\n",
    "if a > b:\n",
    "    print(\"a is greater than b\")\n",
    "elif a < b:\n",
    "    print(\"a is smaller than  b\")"
   ]
  },
  {
   "cell_type": "code",
   "execution_count": 71,
   "id": "957e497c-1b0c-41ff-b9c3-f0eeafb87f52",
   "metadata": {},
   "outputs": [
    {
     "name": "stdout",
     "output_type": "stream",
     "text": [
      "a is greater than b\n"
     ]
    }
   ],
   "source": [
    "a = 100\n",
    "b = 200\n",
    "if a <= b:\n",
    "    print(\"a is greater than b\")\n",
    "elif a >= b:\n",
    "    print(\"a is smaller than  b\")"
   ]
  },
  {
   "cell_type": "code",
   "execution_count": 75,
   "id": "599da353-9064-404e-a854-9530055fd22e",
   "metadata": {},
   "outputs": [
    {
     "name": "stdout",
     "output_type": "stream",
     "text": [
      "a and b are equal\n"
     ]
    }
   ],
   "source": [
    "a = 200\n",
    "b = 33\n",
    "if b > a:\n",
    "  print(\"b is greater than a\")\n",
    "elif a > b:\n",
    "  print(\"a and b are equal\")\n",
    "else:\n",
    "  print(\"a is greater than b\")"
   ]
  },
  {
   "cell_type": "code",
   "execution_count": 13,
   "id": "15d8936b-df85-4a48-bc16-fc3883196e51",
   "metadata": {},
   "outputs": [
    {
     "name": "stdout",
     "output_type": "stream",
     "text": [
      "both condition are True\n"
     ]
    }
   ],
   "source": [
    "a = 50\n",
    "b = 900\n",
    "c = 200\n",
    "if b > a and b > c:\n",
    "    print(\"both condition are True\")\n"
   ]
  },
  {
   "cell_type": "code",
   "execution_count": 23,
   "id": "ed2fc8c9-16c9-4ca3-83e8-3e8ee585c0d7",
   "metadata": {},
   "outputs": [
    {
     "name": "stdout",
     "output_type": "stream",
     "text": [
      "both condition are true\n"
     ]
    }
   ],
   "source": [
    "a = 100\n",
    "b = 50\n",
    "c = 500\n",
    "if a > b and c > a:\n",
    "    print(\"both condition are true\")"
   ]
  },
  {
   "cell_type": "code",
   "execution_count": 29,
   "id": "b72d2a4f-284a-4e1a-b994-4db6fb72cf2b",
   "metadata": {},
   "outputs": [
    {
     "name": "stdout",
     "output_type": "stream",
     "text": [
      "atleast one of the condition are true\n"
     ]
    }
   ],
   "source": [
    "a = 100\n",
    "b = 50\n",
    "c = 500\n",
    "if a > b or a > c:\n",
    "    print(\"atleast one of the condition are true\")"
   ]
  },
  {
   "cell_type": "code",
   "execution_count": 48,
   "id": "218a5d9e-1339-4287-a33d-4389c1532293",
   "metadata": {},
   "outputs": [
    {
     "name": "stdout",
     "output_type": "stream",
     "text": [
      "b is not greater than a\n"
     ]
    }
   ],
   "source": [
    "a = 100\n",
    "b = 50\n",
    "c = 500\n",
    "if not b> a:\n",
    "    print(\"b is not greater than a\")"
   ]
  },
  {
   "cell_type": "code",
   "execution_count": 50,
   "id": "849aad32-6cf8-43c6-956c-c9e43918005a",
   "metadata": {},
   "outputs": [
    {
     "name": "stdout",
     "output_type": "stream",
     "text": [
      "Above ten,\n",
      "and also above 20!\n"
     ]
    }
   ],
   "source": [
    "x = 41\n",
    "\n",
    "if x > 10:\n",
    "  print(\"Above ten,\")\n",
    "  if x > 20:\n",
    "    print(\"and also above 20!\")\n",
    "  else:\n",
    "    print(\"but not above 20.\")"
   ]
  },
  {
   "cell_type": "code",
   "execution_count": 54,
   "id": "b20ffa0a-d18d-43ff-bbee-50428946daf3",
   "metadata": {},
   "outputs": [
    {
     "name": "stdout",
     "output_type": "stream",
     "text": [
      "Above ten,\n",
      "but not above 20.\n"
     ]
    }
   ],
   "source": [
    "x = 20\n",
    "\n",
    "if x > 10:\n",
    "  print(\"Above ten,\")\n",
    "  if x > 20:\n",
    "    print(\"and also above 20!\")\n",
    "  else:\n",
    "    print(\"but not above 20.\")"
   ]
  },
  {
   "cell_type": "code",
   "execution_count": 7,
   "id": "1e4542a6-a181-40ec-b6fc-5028a82cc099",
   "metadata": {},
   "outputs": [
    {
     "name": "stdout",
     "output_type": "stream",
     "text": [
      "ten +,\n",
      "and also above 20!\n"
     ]
    }
   ],
   "source": [
    "x = 41\n",
    "\n",
    "if x > 10:\n",
    "  print(\"ten +,\")\n",
    "  if x > 30:\n",
    "    print(\"and \")\n",
    "  else:\n",
    "    print(\"but not above 20.\")\n",
    "      "
   ]
  },
  {
   "cell_type": "code",
   "execution_count": 19,
   "id": "be95d4d9-5bde-41af-b794-7ab32bb1c730",
   "metadata": {},
   "outputs": [
    {
     "name": "stdout",
     "output_type": "stream",
     "text": [
      "y has been pass becouse of its greater\n",
      "y has been average because of greater\n"
     ]
    }
   ],
   "source": [
    "y = 100\n",
    "\n",
    "if y >50:\n",
    "    print(\"y has been pass becouse of its greater\")\n",
    "    if y > 80:\n",
    "        print(\"y has been average because of greater\")\n",
    "    else:\n",
    "        print(\"y has been pass\")"
   ]
  },
  {
   "cell_type": "code",
   "execution_count": 34,
   "id": "6234e35a-5d74-4182-b2fc-8480274892cc",
   "metadata": {},
   "outputs": [
    {
     "name": "stdout",
     "output_type": "stream",
     "text": [
      "('gagan', 'akhil', 'sparsh', 'vasu')\n"
     ]
    }
   ],
   "source": [
    "mytuple1=(\"gagan\",\"akhil\")\n",
    "mytuple2=(\"sparsh\",\"vasu\")\n",
    "mytuple3= mytuple1+mytuple2\n",
    "print(mytuple3)"
   ]
  },
  {
   "cell_type": "code",
   "execution_count": 1,
   "id": "d7bec3cf-2018-4433-acad-84bf1ea66daf",
   "metadata": {},
   "outputs": [
    {
     "name": "stdout",
     "output_type": "stream",
     "text": [
      "1\n",
      "2\n",
      "3\n",
      "4\n",
      "5\n",
      "6\n",
      "7\n"
     ]
    }
   ],
   "source": [
    "i = 1\n",
    "while i < 8:\n",
    "    print(i)\n",
    "    i= i + 1"
   ]
  },
  {
   "cell_type": "code",
   "execution_count": 11,
   "id": "3a480b8d-13eb-4c8c-806d-1bd2e5683b8f",
   "metadata": {},
   "outputs": [
    {
     "name": "stdout",
     "output_type": "stream",
     "text": [
      "0\n",
      "3\n",
      "6\n",
      "9\n"
     ]
    }
   ],
   "source": [
    "i = 0\n",
    "while i < 10:\n",
    "    print(i)\n",
    "    i = i + 2\n",
    "    "
   ]
  },
  {
   "cell_type": "code",
   "execution_count": 12,
   "id": "f016c795-d7b8-4f39-b14f-128533c9b962",
   "metadata": {},
   "outputs": [
    {
     "name": "stdout",
     "output_type": "stream",
     "text": [
      "1\n",
      "2\n",
      "3\n",
      "4\n",
      "5\n",
      "6\n",
      "7\n",
      "9\n",
      "10\n"
     ]
    }
   ],
   "source": [
    "i = 0 \n",
    "while i < 10:\n",
    "    i +=1\n",
    "    if i ==8:\n",
    "      continue\n",
    "    print(i)"
   ]
  },
  {
   "cell_type": "code",
   "execution_count": 23,
   "id": "2d850f17-f1d6-4481-a689-e12d3f930e84",
   "metadata": {},
   "outputs": [
    {
     "name": "stdout",
     "output_type": "stream",
     "text": [
      "1\n",
      "2\n",
      "3\n",
      "4\n",
      "5\n"
     ]
    }
   ],
   "source": [
    "i = 0\n",
    "while i < 6:\n",
    "    i +=1\n",
    "    if i ==6:\n",
    "        continue\n",
    "    print(i)"
   ]
  },
  {
   "cell_type": "code",
   "execution_count": null,
   "id": "753222f5-83b4-4907-acc1-837920232b8a",
   "metadata": {},
   "outputs": [],
   "source": []
  }
 ],
 "metadata": {
  "kernelspec": {
   "display_name": "Python 3 (ipykernel)",
   "language": "python",
   "name": "python3"
  },
  "language_info": {
   "codemirror_mode": {
    "name": "ipython",
    "version": 3
   },
   "file_extension": ".py",
   "mimetype": "text/x-python",
   "name": "python",
   "nbconvert_exporter": "python",
   "pygments_lexer": "ipython3",
   "version": "3.12.4"
  }
 },
 "nbformat": 4,
 "nbformat_minor": 5
}
