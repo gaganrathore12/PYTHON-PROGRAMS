{
 "cells": [
  {
   "cell_type": "code",
   "execution_count": 1,
   "id": "9a3bd420-bfb0-4200-83e2-8e4bdf0f4e66",
   "metadata": {},
   "outputs": [
    {
     "name": "stdout",
     "output_type": "stream",
     "text": [
      "1\n",
      "2\n",
      "3\n",
      "4\n",
      "5\n",
      "6\n",
      "7\n"
     ]
    }
   ],
   "source": [
    "i = 1\n",
    "while i < 8:\n",
    "    print(i)\n",
    "    i= i + 1\n",
    "    "
   ]
  },
  {
   "cell_type": "markdown",
   "id": "c5473201-7595-4ed1-9140-2841d03bded8",
   "metadata": {},
   "source": [
    "### "
   ]
  },
  {
   "cell_type": "code",
   "execution_count": 2,
   "id": "cc45c945-a876-45f9-bbc1-95ecc20165c1",
   "metadata": {},
   "outputs": [
    {
     "name": "stdout",
     "output_type": "stream",
     "text": [
      "1\n",
      "2\n",
      "3\n",
      "4\n",
      "5\n",
      "6\n",
      "7\n",
      "9\n",
      "10\n"
     ]
    }
   ],
   "source": [
    "i = 0 \n",
    "while i < 10:\n",
    "    i +=1\n",
    "    if i ==8:\n",
    "      continue\n",
    "    print(i)\n"
   ]
  },
  {
   "cell_type": "markdown",
   "id": "6c9a6691-229e-441d-9d7f-8a8a816e6cf2",
   "metadata": {},
   "source": [
    "# "
   ]
  },
  {
   "cell_type": "code",
   "execution_count": 3,
   "id": "de2e2cf7-a6ca-4207-b636-b1f47342db98",
   "metadata": {},
   "outputs": [
    {
     "name": "stdout",
     "output_type": "stream",
     "text": [
      "the sum is: 55\n"
     ]
    }
   ],
   "source": [
    "n = 10\n",
    "i = 1\n",
    "sum = 0\n",
    "while(i<=n):\n",
    "    sum = sum + i\n",
    "    i = i + 1\n",
    "print(\"the sum is:\",sum)\n",
    "\n"
   ]
  },
  {
   "cell_type": "code",
   "execution_count": 4,
   "id": "bd9e4ace-9f1f-4bcd-a2d0-6a41a0b23c70",
   "metadata": {},
   "outputs": [
    {
     "name": "stdout",
     "output_type": "stream",
     "text": [
      "the sum is: 3\n",
      "the sum is: 6\n",
      "the sum is: 9\n",
      "the sum is: 12\n",
      "the sum is: 15\n",
      "the sum is: 18\n"
     ]
    }
   ],
   "source": [
    "#wap to print sum of cube of n natutal number\n",
    "n=20\n",
    "i = 3\n",
    "sum = 0\n",
    "while(i<=n):\n",
    "    sum = sum + 3\n",
    "    i = i + 3\n",
    "    print(\"the sum is:\",sum)\n"
   ]
  },
  {
   "cell_type": "code",
   "execution_count": 5,
   "id": "2fc7d9ff-a193-43c8-b881-d94cb8bc1916",
   "metadata": {},
   "outputs": [
    {
     "name": "stdout",
     "output_type": "stream",
     "text": [
      "A\n",
      "B\n",
      "C\n",
      "D\n",
      "E\n"
     ]
    }
   ],
   "source": [
    "L1=[\"A\",\"B\",\"C\",\"D\",\"E\"]\n",
    "for x in L1:\n",
    "    print(x)\n"
   ]
  },
  {
   "cell_type": "code",
   "execution_count": 6,
   "id": "062ad019-c23a-4cd6-9906-a7c3839a99ce",
   "metadata": {},
   "outputs": [
    {
     "name": "stdout",
     "output_type": "stream",
     "text": [
      "A\n",
      "A\n",
      "F\n",
      "T\n"
     ]
    }
   ],
   "source": [
    "for x in \"AAFT\":\n",
    "    print(x)"
   ]
  },
  {
   "cell_type": "code",
   "execution_count": 7,
   "id": "6be05d6b-8373-4f43-a9f9-c09a8e6c2c8b",
   "metadata": {},
   "outputs": [
    {
     "name": "stdout",
     "output_type": "stream",
     "text": [
      "G\n",
      "A\n",
      "G\n",
      "A\n",
      "N\n"
     ]
    }
   ],
   "source": [
    "for x in \"GAGAN\":\n",
    "    print(x)"
   ]
  },
  {
   "cell_type": "code",
   "execution_count": 8,
   "id": "c2821d32-944f-498a-b814-e530f458fcc0",
   "metadata": {},
   "outputs": [
    {
     "name": "stdout",
     "output_type": "stream",
     "text": [
      "A\n",
      "B\n",
      "C\n"
     ]
    }
   ],
   "source": [
    "L1=[\"A\",\"B\",\"C\",\"D\",\"E\"]\n",
    "for x in L1:\n",
    "    print(x)\n",
    "    if x== \"C\":\n",
    "        break"
   ]
  },
  {
   "cell_type": "code",
   "execution_count": 9,
   "id": "1d485b11-7c90-459c-938d-db251fa9653e",
   "metadata": {},
   "outputs": [
    {
     "name": "stdout",
     "output_type": "stream",
     "text": [
      "G\n",
      "A\n"
     ]
    }
   ],
   "source": [
    "for x in \"GAGAN\":\n",
    "    print(x)\n",
    "    if x==\"A\":\n",
    "        break"
   ]
  },
  {
   "cell_type": "code",
   "execution_count": 10,
   "id": "0962c9b4-51cd-46bb-8399-c21d525fe2aa",
   "metadata": {},
   "outputs": [
    {
     "name": "stdout",
     "output_type": "stream",
     "text": [
      "A\n",
      "B\n"
     ]
    }
   ],
   "source": [
    "L1=[\"A\",\"B\",\"C\",\"D\",\"E\"]\n",
    "for x in L1:\n",
    "    if x== \"C\":\n",
    "        break\n",
    "    print(x)"
   ]
  },
  {
   "cell_type": "code",
   "execution_count": 11,
   "id": "9037149c-6a73-45c8-9a09-d837fd29f3f4",
   "metadata": {},
   "outputs": [
    {
     "name": "stdout",
     "output_type": "stream",
     "text": [
      "A\n",
      "C\n",
      "D\n",
      "E\n"
     ]
    }
   ],
   "source": [
    "L1=[\"A\",\"B\",\"C\",\"D\",\"E\"]\n",
    "for x in L1:\n",
    "    if x== \"B\":\n",
    "        continue\n",
    "    print(x)"
   ]
  },
  {
   "cell_type": "code",
   "execution_count": 12,
   "id": "ec093445-8a98-4f0b-ba90-0d4c809b4979",
   "metadata": {},
   "outputs": [
    {
     "name": "stdout",
     "output_type": "stream",
     "text": [
      "1\n",
      "2\n",
      "3\n",
      "4\n",
      "5\n",
      "6\n",
      "7\n",
      "8\n",
      "9\n",
      "10\n"
     ]
    }
   ],
   "source": [
    "#range() Function\n",
    "for x in range(1,11):\n",
    "    print(x)"
   ]
  },
  {
   "cell_type": "code",
   "execution_count": 13,
   "id": "a715328f-9149-460b-ad85-ea9c1e9e1197",
   "metadata": {},
   "outputs": [
    {
     "name": "stdout",
     "output_type": "stream",
     "text": [
      "2\n",
      "6\n",
      "10\n",
      "14\n",
      "18\n",
      "22\n",
      "26\n",
      "30\n",
      "34\n",
      "38\n",
      "42\n",
      "46\n"
     ]
    }
   ],
   "source": [
    "for x in range(2,50,4):\n",
    "    print(x)"
   ]
  },
  {
   "cell_type": "code",
   "execution_count": 14,
   "id": "caff0aae-56b2-4047-a1f0-0cdce8c49ef6",
   "metadata": {},
   "outputs": [
    {
     "name": "stdout",
     "output_type": "stream",
     "text": [
      "Google\n",
      "Meta\n",
      "Fujitsu\n",
      "Google\n",
      "Meta\n",
      "Fujitsu\n",
      "Google\n",
      "Meta\n",
      "Fujitsu\n"
     ]
    }
   ],
   "source": [
    "#nested for loops \n",
    "L2=[1,2,3]\n",
    "L3=[\"Google\",\"Meta\",\"Fujitsu\"]\n",
    "\n",
    "for x in L2:\n",
    "    for x in L3:\n",
    "        print(x)\n"
   ]
  },
  {
   "cell_type": "code",
   "execution_count": 15,
   "id": "d17babe5-9c7b-4d47-8aa9-c0d337abeca8",
   "metadata": {},
   "outputs": [],
   "source": [
    "#pass statement :for loops cannot be empty,\n",
    "#but if you for reason have a for loop with no content,\n",
    "# put in the pass statement to avoid getting an error.\n",
    "for x in [0,1,2,3,4]:\n",
    "    pass"
   ]
  },
  {
   "cell_type": "code",
   "execution_count": 16,
   "id": "4aff2ad3-a6ac-450f-adbe-07c92e566336",
   "metadata": {},
   "outputs": [
    {
     "name": "stdout",
     "output_type": "stream",
     "text": [
      "10\n",
      "9\n",
      "8\n",
      "7\n",
      "6\n",
      "5\n",
      "4\n",
      "3\n",
      "2\n",
      "1\n"
     ]
    }
   ],
   "source": [
    "i=10\n",
    "while i>0:\n",
    "    print(i)\n",
    "    i = i-1"
   ]
  },
  {
   "cell_type": "code",
   "execution_count": null,
   "id": "e8192f4b-8c4f-4d75-961c-8648679c3e9a",
   "metadata": {},
   "outputs": [],
   "source": [
    "num= int(input(\"enter number of rows:\"))\n",
    "for i in range(1,num+1):\n",
    "      for j in range(1,i+1):\n",
    "        print(\"*\",end=\"\")\n",
    "      print()"
   ]
  },
  {
   "cell_type": "code",
   "execution_count": null,
   "id": "c8e44743-cf81-4173-b14c-b5bcdaf6dc28",
   "metadata": {},
   "outputs": [],
   "source": [
    "def my_function():\n",
    "    print(\"hello from a function\")"
   ]
  }
 ],
 "metadata": {
  "kernelspec": {
   "display_name": "Python 3 (ipykernel)",
   "language": "python",
   "name": "python3"
  },
  "language_info": {
   "codemirror_mode": {
    "name": "ipython",
    "version": 3
   },
   "file_extension": ".py",
   "mimetype": "text/x-python",
   "name": "python",
   "nbconvert_exporter": "python",
   "pygments_lexer": "ipython3",
   "version": "3.12.4"
  }
 },
 "nbformat": 4,
 "nbformat_minor": 5
}
