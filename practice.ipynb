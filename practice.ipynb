{
 "cells": [
  {
   "cell_type": "code",
   "execution_count": 1,
   "id": "d62ea695-240d-4611-9211-703053beb483",
   "metadata": {},
   "outputs": [
    {
     "name": "stdout",
     "output_type": "stream",
     "text": [
      "['A', 'B', 'C', 'D', 'E', 'F']\n"
     ]
    }
   ],
   "source": [
    "X = [\"A\",\"B\",\"C\",\"D\",\"E\",\"F\"]\n",
    "print(X)\n",
    "      "
   ]
  },
  {
   "cell_type": "code",
   "execution_count": 2,
   "id": "21b75449-cc5f-4531-870f-21a7d58f1709",
   "metadata": {},
   "outputs": [
    {
     "name": "stdout",
     "output_type": "stream",
     "text": [
      "['A', 'B', 'C', 'D', 'E', 'F']\n",
      "[1, 2, 3, 4, 5]\n"
     ]
    }
   ],
   "source": [
    "X = [\"A\",\"B\",\"C\",\"D\",\"E\",\"F\"]\n",
    "Y = [1,2,3,4,5]\n",
    "print(X)\n",
    "print(Y)\n"
   ]
  },
  {
   "cell_type": "code",
   "execution_count": 3,
   "id": "07a8fc46-5503-45a1-836a-e9f54385a20c",
   "metadata": {},
   "outputs": [
    {
     "name": "stdout",
     "output_type": "stream",
     "text": [
      "['python is the programming language']\n"
     ]
    }
   ],
   "source": [
    "L1 = [ \"python is the programming language\"]\n",
    "print(L1)"
   ]
  },
  {
   "cell_type": "code",
   "execution_count": 4,
   "id": "7a4acc80-35a5-4bea-aeb2-7a3750a02f43",
   "metadata": {},
   "outputs": [
    {
     "name": "stdout",
     "output_type": "stream",
     "text": [
      "python is the programming language\n"
     ]
    }
   ],
   "source": [
    "L1 = \"python is the programming language\"\n",
    "print(L1)"
   ]
  },
  {
   "cell_type": "code",
   "execution_count": 5,
   "id": "2e8bf3ea-932b-4e79-8c0a-0f133e7a8a25",
   "metadata": {},
   "outputs": [
    {
     "name": "stdout",
     "output_type": "stream",
     "text": [
      "python is the programming language\n"
     ]
    }
   ],
   "source": [
    "L1 = 'python is the programming language'\n",
    "print(L1)"
   ]
  },
  {
   "cell_type": "code",
   "execution_count": 6,
   "id": "8d6a19e4-701a-4d24-983e-8814d0d54575",
   "metadata": {},
   "outputs": [
    {
     "name": "stdout",
     "output_type": "stream",
     "text": [
      "<class 'int'>\n",
      "<class 'str'>\n"
     ]
    }
   ],
   "source": [
    "x = 4343\n",
    "y = \"my world\"\n",
    "print(type(x))\n",
    "print(type(y))"
   ]
  },
  {
   "cell_type": "code",
   "execution_count": 7,
   "id": "08874906-e102-4a28-aea9-65632473d130",
   "metadata": {},
   "outputs": [
    {
     "name": "stdout",
     "output_type": "stream",
     "text": [
      "<class 'int'>\n",
      "<class 'str'>\n",
      "<class 'bool'>\n"
     ]
    }
   ],
   "source": [
    "L1 = 84359832\n",
    "L2 = \"bhfbvv budwb\"\n",
    "L3 = False\n",
    "print(type(L1))\n",
    "print(type(L2))\n",
    "print(type(L3))"
   ]
  },
  {
   "cell_type": "code",
   "execution_count": 8,
   "id": "0f3ddbf2-73d5-4f23-91fa-b3f337569e91",
   "metadata": {},
   "outputs": [
    {
     "name": "stdout",
     "output_type": "stream",
     "text": [
      "<class 'int'>\n",
      "<class 'str'>\n",
      "<class 'bool'>\n"
     ]
    }
   ],
   "source": [
    "X = 389482\n",
    "Y = \"BHWBC BHEWB\"\n",
    "Z = True\n",
    "print(type(X))\n",
    "print(type(Y))\n",
    "print(type(Z))"
   ]
  },
  {
   "cell_type": "code",
   "execution_count": 9,
   "id": "d35ecd6b-8069-4bdb-957f-e170f961238b",
   "metadata": {},
   "outputs": [
    {
     "name": "stdout",
     "output_type": "stream",
     "text": [
      "8\n"
     ]
    }
   ],
   "source": [
    "L1 = [\"gagan\",\"mannu\",\"kirti\",\"prachi\",\"ashu\",\"piyush\",\"komal\",\"wwe\"]\n",
    "print(len(L1))"
   ]
  },
  {
   "cell_type": "code",
   "execution_count": 10,
   "id": "aca69560-768d-4589-8154-8f64c24047b3",
   "metadata": {},
   "outputs": [
    {
     "name": "stdout",
     "output_type": "stream",
     "text": [
      "<class 'list'>\n",
      "<class 'list'>\n",
      "8\n",
      "9\n"
     ]
    }
   ],
   "source": [
    "L1 = [\"gagan\",\"mannu\",\"kirti\",\"prachi\",\"ashu\",\"piyush\",\"komal\",\"wwe\"]\n",
    "L2 = [1,2,3,4,5,6,7,8,9]\n",
    "print(type(L1))\n",
    "print(type(L2))\n",
    "print(len(L1))\n",
    "print(len(L2))"
   ]
  },
  {
   "cell_type": "code",
   "execution_count": 11,
   "id": "0c6d8301-c493-422b-b4c0-0abb01333ba8",
   "metadata": {},
   "outputs": [
    {
     "name": "stdout",
     "output_type": "stream",
     "text": [
      "<class 'list'>\n"
     ]
    }
   ],
   "source": [
    "X= [\"gagan\",True,12,\"MANNU\"]\n",
    "print(type(L1))"
   ]
  },
  {
   "cell_type": "code",
   "execution_count": 12,
   "id": "25aef35d-87cc-49c9-9db7-52f162a7ecc5",
   "metadata": {},
   "outputs": [
    {
     "name": "stdout",
     "output_type": "stream",
     "text": [
      "['wwe', 'qqq', 'earplugs', 'mannu']\n"
     ]
    }
   ],
   "source": [
    "L1 = [\"wwe\",\"qqq\",\"earplugs\",\"mannu\"]\n",
    "print(L1[0:4])"
   ]
  },
  {
   "cell_type": "code",
   "execution_count": 13,
   "id": "24d04fa1-864b-46fd-b730-d114a3b9cd39",
   "metadata": {},
   "outputs": [
    {
     "name": "stdout",
     "output_type": "stream",
     "text": [
      "heguru \n"
     ]
    }
   ],
   "source": [
    "L1= \"waheguru ji meher kare\"\n",
    "print(L1[2:9])"
   ]
  },
  {
   "cell_type": "code",
   "execution_count": 14,
   "id": "654e0ff8-8b7d-4a3e-b37f-5b010c8af261",
   "metadata": {},
   "outputs": [
    {
     "name": "stdout",
     "output_type": "stream",
     "text": [
      "aheguru ji meher \n"
     ]
    }
   ],
   "source": [
    "L1= \"waheguru ji meher kare\"\n",
    "print(L1[1:18])"
   ]
  },
  {
   "cell_type": "code",
   "execution_count": 15,
   "id": "a2ccf1c4-6509-4a2a-b482-fc73586068c8",
   "metadata": {},
   "outputs": [
    {
     "name": "stdout",
     "output_type": "stream",
     "text": [
      "waheguru ji meher k\n"
     ]
    }
   ],
   "source": [
    "L1= \"waheguru ji meher kare\"\n",
    "print(L1[:19])"
   ]
  },
  {
   "cell_type": "code",
   "execution_count": 16,
   "id": "4d353344-089a-46e7-a5ad-d07564d24eba",
   "metadata": {},
   "outputs": [
    {
     "name": "stdout",
     "output_type": "stream",
     "text": [
      "heguru ji meher kare\n"
     ]
    }
   ],
   "source": [
    "L1= \"waheguru ji meher kare\"\n",
    "print(L1[2:])"
   ]
  },
  {
   "cell_type": "code",
   "execution_count": 17,
   "id": "0b2038a8-f758-42ad-8ef1-b440c254cee0",
   "metadata": {},
   "outputs": [
    {
     "name": "stdout",
     "output_type": "stream",
     "text": [
      "ru ji m\n"
     ]
    }
   ],
   "source": [
    "L1= \"waheguru ji meher kare\"\n",
    "print(L1[-16:-9])"
   ]
  },
  {
   "cell_type": "code",
   "execution_count": 18,
   "id": "84736a6a-f369-49fe-baae-e75be7cf43ff",
   "metadata": {},
   "outputs": [
    {
     "name": "stdout",
     "output_type": "stream",
     "text": [
      "egu\n",
      "2,3\n"
     ]
    }
   ],
   "source": [
    "L1= \"waheguru ji meher kare\"\n",
    "L2 = '1,2,3,4,5,6,7,8'\n",
    "print(L1[3:6])\n",
    "print(L2[2:5])"
   ]
  },
  {
   "cell_type": "code",
   "execution_count": 19,
   "id": "04ed836d-f06d-43a0-a91b-e250f686a90b",
   "metadata": {},
   "outputs": [
    {
     "name": "stdout",
     "output_type": "stream",
     "text": [
      "WAHEGURU JI MEHER KARE\n"
     ]
    }
   ],
   "source": [
    "L1= \"waheguru ji meher kare\"\n",
    "print(L1.upper())"
   ]
  },
  {
   "cell_type": "code",
   "execution_count": 20,
   "id": "f35d33af-cf20-4f2e-a583-85514603701f",
   "metadata": {},
   "outputs": [
    {
     "name": "stdout",
     "output_type": "stream",
     "text": [
      "waheguru ji meher kare\n"
     ]
    }
   ],
   "source": [
    "L1= \"waheguru ji meher kare\"\n",
    "print(L1.lower())"
   ]
  },
  {
   "cell_type": "code",
   "execution_count": 21,
   "id": "82cd4fa3-3bf3-4003-83b1-aaf14a33d362",
   "metadata": {},
   "outputs": [
    {
     "name": "stdout",
     "output_type": "stream",
     "text": [
      "raheguru ji meher kare\n"
     ]
    }
   ],
   "source": [
    "L1= \"waheguru ji meher kare\"\n",
    "print(L1.replace(\"w\",\"r\"))"
   ]
  },
  {
   "cell_type": "code",
   "execution_count": 22,
   "id": "b91cdb90-b559-47bd-be0b-700bba7355f7",
   "metadata": {},
   "outputs": [
    {
     "name": "stdout",
     "output_type": "stream",
     "text": [
      "my name is gagan\n"
     ]
    }
   ],
   "source": [
    "L1 = \"my name is\"\n",
    "L2 = \" gagan\"\n",
    "L3 = L1 + L2\n",
    "print(L3)"
   ]
  },
  {
   "cell_type": "code",
   "execution_count": 23,
   "id": "9e97e973-1b85-40e5-bf6c-d7484b9857a6",
   "metadata": {},
   "outputs": [
    {
     "name": "stdout",
     "output_type": "stream",
     "text": [
      "my name is  gagan\n"
     ]
    }
   ],
   "source": [
    "a = \"my name is\"\n",
    "b = \"gagan\"\n",
    "c = a+ \"  \"+b\n",
    "print(c)"
   ]
  },
  {
   "cell_type": "code",
   "execution_count": 24,
   "id": "94bd4769-2c26-4015-80a5-c5b5eb20b488",
   "metadata": {},
   "outputs": [
    {
     "name": "stdout",
     "output_type": "stream",
     "text": [
      "indian prime minister is narendra modi\n"
     ]
    }
   ],
   "source": [
    "L1 = \"indian prime minister is\"\n",
    "L2 = \"narendra modi\"\n",
    "L3 = L1+\" \"+L2\n",
    "print(L3)"
   ]
  },
  {
   "cell_type": "code",
   "execution_count": 25,
   "id": "656e51ad-2aa6-47ae-afea-8a207e1ca880",
   "metadata": {},
   "outputs": [
    {
     "name": "stdout",
     "output_type": "stream",
     "text": [
      " my age is 20\n"
     ]
    }
   ],
   "source": [
    "age = 20\n",
    "txt = f\" my age is {age}\"\n",
    "print(txt)"
   ]
  },
  {
   "cell_type": "code",
   "execution_count": 26,
   "id": "82ee0256-2099-4026-87b2-ad3c828641ec",
   "metadata": {},
   "outputs": [
    {
     "name": "stdout",
     "output_type": "stream",
     "text": [
      "the rupee is fallen for 3000\n"
     ]
    }
   ],
   "source": [
    "rupee = 3000\n",
    "txt = f\"the rupee is fallen for {rupee}\"\n",
    "print(txt)"
   ]
  },
  {
   "cell_type": "code",
   "execution_count": 27,
   "id": "08701e2f-72a3-4b93-9025-a91d33989b3f",
   "metadata": {},
   "outputs": [
    {
     "name": "stdout",
     "output_type": "stream",
     "text": [
      "dollar is the srongest currency in the world the price is 40 $\n"
     ]
    }
   ],
   "source": [
    "dollar = 40\n",
    "txt = f\"dollar is the srongest currency in the world the price is {dollar} $\"\n",
    "print(txt)"
   ]
  },
  {
   "cell_type": "code",
   "execution_count": 28,
   "id": "10e572c2-5d2c-4df6-bab9-bdee0174e090",
   "metadata": {},
   "outputs": [
    {
     "name": "stdout",
     "output_type": "stream",
     "text": [
      "['gagan', 'mannu', 'kirti', 'prachi', 'akansha', 'piyush', 'komal', 'wwe']\n"
     ]
    }
   ],
   "source": [
    "L1 = [\"gagan\",\"mannu\",\"kirti\",\"prachi\",\"ashu\",\"piyush\",\"komal\",\"wwe\"]\n",
    "L1[4]=\"akansha\"\n",
    "print(L1)"
   ]
  },
  {
   "cell_type": "code",
   "execution_count": 29,
   "id": "55a47869-0d11-4c5d-86f8-b70689382d1a",
   "metadata": {},
   "outputs": [
    {
     "name": "stdout",
     "output_type": "stream",
     "text": [
      "['gagan', 'mannu', 'kirti', 'prachi', 'ashu', 'piyush', 'komal', 'akki']\n"
     ]
    }
   ],
   "source": [
    "L1 = [\"gagan\",\"mannu\",\"kirti\",\"prachi\",\"ashu\",\"piyush\",\"komal\",\"wwe\"]\n",
    "L1[7]=\"akki\"\n",
    "print(L1)"
   ]
  },
  {
   "cell_type": "code",
   "execution_count": 30,
   "id": "c7eb23e4-e060-4809-a658-69772e0a37b7",
   "metadata": {},
   "outputs": [
    {
     "name": "stdout",
     "output_type": "stream",
     "text": [
      "['gagan', 'mannu', 'kirti', 'rahul', 'ashu', 'piyush', 'komal', 'wwe']\n"
     ]
    }
   ],
   "source": [
    "L1 = [\"gagan\",\"mannu\",\"kirti\",\"prachi\",\"ashu\",\"piyush\",\"komal\",\"wwe\"]\n",
    "L1 [-5] =\"rahul\"\n",
    "print(L1)"
   ]
  },
  {
   "cell_type": "code",
   "execution_count": 31,
   "id": "83301819-ac24-40fc-a434-0000d055be76",
   "metadata": {},
   "outputs": [
    {
     "name": "stdout",
     "output_type": "stream",
     "text": [
      "apple\n",
      "mango\n",
      "cherry\n"
     ]
    }
   ],
   "source": [
    "L1 = [\"apple\",\"mango\",\"cherry\"]\n",
    "for x in L1:\n",
    "    print(x)"
   ]
  },
  {
   "cell_type": "code",
   "execution_count": 32,
   "id": "fbe60a2f-2ad8-4886-b514-9edc184233ab",
   "metadata": {},
   "outputs": [
    {
     "name": "stdout",
     "output_type": "stream",
     "text": [
      "mannu \n",
      "gagan\n",
      "urus\n"
     ]
    }
   ],
   "source": [
    "L1 = [\"mannu \",\"gagan\",\"urus\"]\n",
    "for x in L1:\n",
    "    print(x)"
   ]
  },
  {
   "cell_type": "code",
   "execution_count": 33,
   "id": "08f4cdf2-40a1-4147-b572-9ae4087aff43",
   "metadata": {},
   "outputs": [
    {
     "name": "stdout",
     "output_type": "stream",
     "text": [
      "mannu\n",
      "1\n",
      "True\n",
      "hello\n"
     ]
    }
   ],
   "source": [
    "L1 = [\"mannu\",1,\"True\",\"hello\"]\n",
    "for x in L1:\n",
    "    print(x)"
   ]
  },
  {
   "cell_type": "code",
   "execution_count": 34,
   "id": "541bd54e-2e39-4493-88b4-e9cde1573144",
   "metadata": {},
   "outputs": [
    {
     "name": "stdout",
     "output_type": "stream",
     "text": [
      "['bhatija', 'bhanja', 'bhai']\n"
     ]
    }
   ],
   "source": [
    "mummy= [\"mausi\",\"mami\",\"mama\",\"nani\",\"bhatija\",\"bhanja\",\"chacha\",\"bhai\",\"cousin\"]\n",
    "papa = []\n",
    "\n",
    "for x in mummy:\n",
    "  if \"b\" in x:\n",
    "    papa.append(x)\n",
    "print(papa)"
   ]
  },
  {
   "cell_type": "code",
   "execution_count": 35,
   "id": "316b65a3-8dee-4a86-ba9a-5913bd0fda11",
   "metadata": {},
   "outputs": [
    {
     "name": "stdout",
     "output_type": "stream",
     "text": [
      "['bhatija', 'bhanja', 'bhai']\n"
     ]
    }
   ],
   "source": [
    "mummy= [\"mausi\",\"mami\",\"mama\",\"nani\",\"bhatija\",\"bhanja\",\"chacha\",\"bhai\",\"cousin\"]\n",
    "papa = []\n",
    "\n",
    "for x in mummy:\n",
    "  if \"b\" in x:\n",
    "    papa.append(x)\n",
    "print(papa)"
   ]
  },
  {
   "cell_type": "code",
   "execution_count": 36,
   "id": "62319e95-a49b-4dd9-94df-5274f673d3f9",
   "metadata": {},
   "outputs": [
    {
     "name": "stdout",
     "output_type": "stream",
     "text": [
      "['b', 'b']\n"
     ]
    }
   ],
   "source": [
    "majnu = [\"a\",\"a\",\"b\",\"b\",\"c\",\"c\"]\n",
    "laila= []\n",
    "\n",
    "for x in majnu:\n",
    "    if \"b\" in x:\n",
    "        laila.append(x)\n",
    "\n",
    "print(laila)"
   ]
  },
  {
   "cell_type": "code",
   "execution_count": 37,
   "id": "9efa1af3-7874-4b98-aac4-b8330a64aa5a",
   "metadata": {},
   "outputs": [
    {
     "name": "stdout",
     "output_type": "stream",
     "text": [
      "['sharma', 'mishra']\n"
     ]
    }
   ],
   "source": [
    "cast = [\"sharma\",\"gupta\",\"rathore\",\"rajput\",\"jaat\",\"bhraman\",\"gujjar\",\"yadav\",\"mishra\"]\n",
    "religion=[]\n",
    "\n",
    "for x in cast:\n",
    "    if \"s\" in x:\n",
    "        religion.append(x)\n",
    "\n",
    "print(religion)"
   ]
  },
  {
   "cell_type": "code",
   "execution_count": 38,
   "id": "d1584629-550c-4d9a-b7aa-8a41aa19a897",
   "metadata": {},
   "outputs": [
    {
     "name": "stdout",
     "output_type": "stream",
     "text": [
      "['marketing', 'managment', 'larger']\n"
     ]
    }
   ],
   "source": [
    "manager =[\"finance\",\"marketing\",\"hr\",\"managment\",\"account\",\"larger\"]\n",
    "company = []\n",
    "\n",
    "for x in manager:\n",
    "    if \"g\" in x:\n",
    "        company.append(x)\n",
    "\n",
    "print(company)"
   ]
  },
  {
   "cell_type": "code",
   "execution_count": 39,
   "id": "1917e0ba-fa72-49bc-a9fa-e4d2068c25cb",
   "metadata": {},
   "outputs": [
    {
     "name": "stdout",
     "output_type": "stream",
     "text": [
      "['account', 'finance', 'hr', 'larger', 'managment', 'marketing']\n"
     ]
    }
   ],
   "source": [
    "manager =[\"finance\",\"marketing\",\"hr\",\"managment\",\"account\",\"larger\"]\n",
    "manager.sort()\n",
    "print(manager)"
   ]
  },
  {
   "cell_type": "code",
   "execution_count": 40,
   "id": "1a442c2e-705a-4799-8dc4-5f7de7c3cf0a",
   "metadata": {},
   "outputs": [
    {
     "name": "stdout",
     "output_type": "stream",
     "text": [
      "<class 'list'>\n",
      "14\n",
      "['A', 'E', 'F', 'G', 'G', 'H', 'J', 'M', 'O', 'Q', 'R', 'S', 'T', 'T']\n"
     ]
    }
   ],
   "source": [
    "L1 = [\"G\",\"H\",\"M\",\"F\",\"S\",\"T\",\"G\",\"Q\",\"A\",\"E\",\"T\",\"R\",\"O\",\"J\"]\n",
    "L1.sort()\n",
    "print(type(L1))\n",
    "print(len(L1))\n",
    "print(L1)"
   ]
  },
  {
   "cell_type": "code",
   "execution_count": 41,
   "id": "54289bf3-26e6-4d1c-a774-2003c0eaad6b",
   "metadata": {},
   "outputs": [
    {
     "name": "stdout",
     "output_type": "stream",
     "text": [
      "['T', 'T', 'S', 'R', 'Q', 'O', 'M', 'J', 'H', 'G', 'G', 'F', 'E', 'A']\n"
     ]
    }
   ],
   "source": [
    "L1 = [\"G\",\"H\",\"M\",\"F\",\"S\",\"T\",\"G\",\"Q\",\"A\",\"E\",\"T\",\"R\",\"O\",\"J\"]\n",
    "L1.sort(reverse = True)\n",
    "print(L1)"
   ]
  },
  {
   "cell_type": "code",
   "execution_count": 42,
   "id": "9b09dcff-856f-4ef3-b6e7-7fe9ee142aef",
   "metadata": {},
   "outputs": [
    {
     "name": "stdout",
     "output_type": "stream",
     "text": [
      "apple\n",
      "mango\n",
      "allo\n"
     ]
    }
   ],
   "source": [
    "x,y,z = \"apple\",\"mango\",\"allo\"\n",
    "print(x)\n",
    "print(y)\n",
    "print(z)"
   ]
  },
  {
   "cell_type": "code",
   "execution_count": 43,
   "id": "a7a79a27-cbe3-489a-84f8-ef28e127d550",
   "metadata": {},
   "outputs": [
    {
     "name": "stdout",
     "output_type": "stream",
     "text": [
      "True\n",
      "False\n",
      "True\n"
     ]
    }
   ],
   "source": [
    "print(10 > 9)\n",
    "print(9 > 10)\n",
    "print(1 == 1)"
   ]
  },
  {
   "cell_type": "code",
   "execution_count": 44,
   "id": "c18113ea-98d0-41f6-8327-5bbf619706e5",
   "metadata": {},
   "outputs": [
    {
     "name": "stdout",
     "output_type": "stream",
     "text": [
      "a is greater than b\n"
     ]
    }
   ],
   "source": [
    "a = 100\n",
    "b = 50\n",
    "\n",
    "if a>b:\n",
    "    print(\"a is greater than b\")\n",
    "else:\n",
    "    print(\"a is not greater than b\")"
   ]
  },
  {
   "cell_type": "code",
   "execution_count": 45,
   "id": "bff9316e-80c1-43af-8715-b08b658c8499",
   "metadata": {},
   "outputs": [
    {
     "name": "stdout",
     "output_type": "stream",
     "text": [
      "a is samller than l\n"
     ]
    }
   ],
   "source": [
    "a=45\n",
    "l=70\n",
    "\n",
    "if a > l:\n",
    "    print(\"a is greater than l\")\n",
    "else:\n",
    "    print(\"a is samller than l\")"
   ]
  },
  {
   "cell_type": "code",
   "execution_count": 46,
   "id": "6dd79c43-bb3c-4371-a44b-274800a29264",
   "metadata": {},
   "outputs": [
    {
     "name": "stdout",
     "output_type": "stream",
     "text": [
      "Both conditions are True\n"
     ]
    }
   ],
   "source": [
    "a = 200\n",
    "b = 33\n",
    "c = 500\n",
    "if a > b and c > a:\n",
    "  print(\"Both conditions are True\")"
   ]
  },
  {
   "cell_type": "code",
   "execution_count": 47,
   "id": "0e4f3525-188f-49a8-b629-ce24e8ffd1f6",
   "metadata": {},
   "outputs": [
    {
     "name": "stdout",
     "output_type": "stream",
     "text": [
      "above ten\n",
      "above ten\n",
      "above ten but closer\n"
     ]
    }
   ],
   "source": [
    "x = 41\n",
    "\n",
    "if x > 10:\n",
    "    print(\"above ten\")\n",
    "    if x > 20:\n",
    "        print(\"above ten\")\n",
    "        if x >30:\n",
    "            print(\"above ten but closer\")\n",
    "    else:\n",
    "        print(\"below ten\")"
   ]
  },
  {
   "cell_type": "code",
   "execution_count": 48,
   "id": "08d95d96-63d4-4426-a7cb-17c0814fe375",
   "metadata": {},
   "outputs": [
    {
     "name": "stdout",
     "output_type": "stream",
     "text": [
      "['guava', 'banana', 'cherry', 'mango', 'orange', 'lichi']\n"
     ]
    }
   ],
   "source": [
    "x = [\"apple\",\"banana\",\"cherry\",\"mango\",\"orange\",\"berry\"]\n",
    "x[0]= \"guava\"\n",
    "x[5]= \"lichi\"\n",
    "print(x)"
   ]
  },
  {
   "cell_type": "code",
   "execution_count": 49,
   "id": "5f1a106c-0ad9-4739-993f-fb80670bbf83",
   "metadata": {},
   "outputs": [
    {
     "name": "stdout",
     "output_type": "stream",
     "text": [
      "['apple', 'banana', 'mango', 'cherry', 'orange', 'berry']\n"
     ]
    }
   ],
   "source": [
    "x = [\"apple\",\"banana\",\"cherry\",\"mango\",\"orange\",\"berry\"]\n",
    "x[2] = \"mango\"\n",
    "x[3] = \"cherry\"\n",
    "print(x)"
   ]
  },
  {
   "cell_type": "code",
   "execution_count": 50,
   "id": "9ed9de18-57ee-46e0-b932-f659dc068562",
   "metadata": {},
   "outputs": [
    {
     "name": "stdout",
     "output_type": "stream",
     "text": [
      "6\n"
     ]
    }
   ],
   "source": [
    "x = [\"apple\",\"banana\",\"cherry\",\"mango\",\"orange\",\"berry\"]\n",
    "print(len(x))"
   ]
  },
  {
   "cell_type": "code",
   "execution_count": 51,
   "id": "4f5b62e4-847c-4d2d-ae8b-59728d46bc41",
   "metadata": {},
   "outputs": [
    {
     "name": "stdout",
     "output_type": "stream",
     "text": [
      "orange\n"
     ]
    }
   ],
   "source": [
    "x = [\"apple\",\"banana\",\"cherry\",\"mango\",\"orange\",\"berry\"]\n",
    "print(max(x))"
   ]
  },
  {
   "cell_type": "code",
   "execution_count": 52,
   "id": "42263c62-80bc-483e-90f6-5ced637a2339",
   "metadata": {},
   "outputs": [
    {
     "name": "stdout",
     "output_type": "stream",
     "text": [
      "apple\n"
     ]
    }
   ],
   "source": [
    "x = [\"apple\",\"banana\",\"cherry\",\"mango\",\"orange\",\"berry\"]\n",
    "print(min(x))"
   ]
  },
  {
   "cell_type": "code",
   "execution_count": 53,
   "id": "d6fe8955-fb69-4e49-84ab-920ab0864ef3",
   "metadata": {},
   "outputs": [
    {
     "name": "stdout",
     "output_type": "stream",
     "text": [
      "True\n"
     ]
    }
   ],
   "source": [
    "x = [\"apple\",\"banana\",\"cherry\",\"mango\",\"orange\",\"berry\"]\n",
    "print('cherry' in x)"
   ]
  },
  {
   "cell_type": "code",
   "execution_count": 54,
   "id": "fdf2d8fe-7bfb-4c08-b23e-8a44a59d1631",
   "metadata": {},
   "outputs": [
    {
     "name": "stdout",
     "output_type": "stream",
     "text": [
      "False\n"
     ]
    }
   ],
   "source": [
    "x = [\"apple\",\"banana\",\"cherry\",\"mango\",\"orange\",\"berry\"]\n",
    "print('guava' in x)"
   ]
  },
  {
   "cell_type": "code",
   "execution_count": 55,
   "id": "4fef2d87-03f9-4bb5-b74f-0a14b40e3df8",
   "metadata": {},
   "outputs": [
    {
     "name": "stdout",
     "output_type": "stream",
     "text": [
      "[]\n"
     ]
    }
   ],
   "source": [
    "x = [\"apple\",\"banana\",\"cherry\",\"mango\",\"orange\",\"berry\"]\n",
    "x.clear()\n",
    "print(x)"
   ]
  },
  {
   "cell_type": "code",
   "execution_count": 56,
   "id": "bdb28019-9ee9-4b82-95bb-afb1ed473602",
   "metadata": {},
   "outputs": [
    {
     "name": "stdout",
     "output_type": "stream",
     "text": [
      "[]\n"
     ]
    }
   ],
   "source": [
    "x = [\"apple\",\"banana\",\"cherry\",\"mango\",\"orange\",\"berry\"]\n",
    "del x[:]\n",
    "print(x)"
   ]
  },
  {
   "cell_type": "code",
   "execution_count": 57,
   "id": "c6f4179f-011a-48fe-8c52-7b46d1bcba88",
   "metadata": {},
   "outputs": [
    {
     "name": "stdout",
     "output_type": "stream",
     "text": [
      "['orange', 'mango', 'cherry', 'berry', 'banana', 'apple']\n"
     ]
    }
   ],
   "source": [
    "x = [\"apple\",\"banana\",\"cherry\",\"mango\",\"orange\",\"berry\"]\n",
    "x.sort(reverse = True)\n",
    "print(x)"
   ]
  },
  {
   "cell_type": "code",
   "execution_count": 58,
   "id": "c90e4c2e-a6f6-480c-bb7a-3b8570103015",
   "metadata": {},
   "outputs": [
    {
     "name": "stdout",
     "output_type": "stream",
     "text": [
      "['apple', 'banana', 'cherry', 'mango', 'orange', 'berry']\n"
     ]
    }
   ],
   "source": [
    "x = [\"apple\",\"banana\",\"cherry\",\"mango\",\"orange\",\"berry\"]\n",
    "x.copy()\n",
    "print(x)"
   ]
  },
  {
   "cell_type": "code",
   "execution_count": 59,
   "id": "aa5b8fa4-4015-4354-9f12-a78742e1ef77",
   "metadata": {},
   "outputs": [
    {
     "name": "stdout",
     "output_type": "stream",
     "text": [
      "1\n"
     ]
    }
   ],
   "source": [
    "l1 = [\"apple\",\"banana\",\"cherry\",\"mango\",\"orange\",\"berry\"]\n",
    "print(l1.count(\"apple\"))"
   ]
  },
  {
   "cell_type": "code",
   "execution_count": 60,
   "id": "4da557b2-89b3-4cbb-b76d-812fe952ebe3",
   "metadata": {},
   "outputs": [
    {
     "name": "stdout",
     "output_type": "stream",
     "text": [
      "36\n",
      "4.5\n"
     ]
    }
   ],
   "source": [
    "L1 = [1,2,3,4,5,6,7,8]\n",
    "print(sum(L1))\n",
    "print(sum(L1)/len(L1))"
   ]
  },
  {
   "cell_type": "code",
   "execution_count": 61,
   "id": "c8808541-53ad-466e-ac20-53b13c9f5dc5",
   "metadata": {},
   "outputs": [
    {
     "name": "stdout",
     "output_type": "stream",
     "text": [
      "[40320]\n"
     ]
    }
   ],
   "source": [
    "L1 = [1,2,3,4,5,6,7,8]\n",
    "product = [1*2*3*4*5*6*7*8]\n",
    "print(product)"
   ]
  },
  {
   "cell_type": "code",
   "execution_count": 62,
   "id": "4712c101-177d-401f-9c85-0eed712850fe",
   "metadata": {},
   "outputs": [
    {
     "name": "stdout",
     "output_type": "stream",
     "text": [
      "2\n",
      "4\n",
      "6\n",
      "8\n"
     ]
    }
   ],
   "source": [
    "n = [1,2,3,4,5,6,7,8]\n",
    "for i in n:\n",
    "    if i%2==0:\n",
    "        print(i)"
   ]
  },
  {
   "cell_type": "code",
   "execution_count": 63,
   "id": "4c5b1cf2-dd96-412c-97f8-b267e48a27e7",
   "metadata": {},
   "outputs": [
    {
     "name": "stdout",
     "output_type": "stream",
     "text": [
      "2\n",
      "4\n",
      "6\n",
      "8\n"
     ]
    }
   ],
   "source": [
    "n = [1,2,3,4,5,6,7,8]\n",
    "for i in n:\n",
    "    if i%2==0:\n",
    "        print(i)"
   ]
  },
  {
   "cell_type": "code",
   "execution_count": 64,
   "id": "d6bd3461-26f8-4737-b1aa-5578b031e2de",
   "metadata": {},
   "outputs": [
    {
     "name": "stdout",
     "output_type": "stream",
     "text": [
      "1\n",
      "3\n",
      "5\n",
      "7\n"
     ]
    }
   ],
   "source": [
    "n = [1,2,3,4,5,6,7,8]\n",
    "for i in n:\n",
    "    if i%2==1:\n",
    "        print(i)"
   ]
  },
  {
   "cell_type": "code",
   "execution_count": 65,
   "id": "795d7790-5ee9-4e38-9146-8b0335a19490",
   "metadata": {},
   "outputs": [
    {
     "name": "stdout",
     "output_type": "stream",
     "text": [
      "1\n",
      "6\n",
      "11\n"
     ]
    }
   ],
   "source": [
    "L1 = [1,2,3,4,5,6,7,8,9,10,11,12,13,14,15]\n",
    "for i in L1:\n",
    "    if i%5==1:\n",
    "        print(i)\n",
    "        "
   ]
  },
  {
   "cell_type": "code",
   "execution_count": 66,
   "id": "9fc9fa95-e0dc-4590-9084-a717af4007be",
   "metadata": {},
   "outputs": [
    {
     "name": "stdout",
     "output_type": "stream",
     "text": [
      "[2, 4, 6, 8]\n"
     ]
    }
   ],
   "source": [
    "n=[1, 2, 3, 4, 5, 6, 7, 8]\n",
    "even=[x for x in n if x % 2 == 0]\n",
    "print(even)"
   ]
  },
  {
   "cell_type": "code",
   "execution_count": 67,
   "id": "2637f7c8-9b28-44bd-af35-f669faf7bf89",
   "metadata": {},
   "outputs": [
    {
     "name": "stdout",
     "output_type": "stream",
     "text": [
      "[1, 3, 5, 7]\n"
     ]
    }
   ],
   "source": [
    "n = [1,2,3,4,5,6,7,8]\n",
    "odd = [x for x in n if x % 2==1]\n",
    "print(odd)"
   ]
  },
  {
   "cell_type": "code",
   "execution_count": 68,
   "id": "141c2ab1-26c4-4c06-9315-99e9bb4d4d9f",
   "metadata": {},
   "outputs": [
    {
     "name": "stdout",
     "output_type": "stream",
     "text": [
      "1\n",
      "2\n",
      "3\n",
      "4\n",
      "5\n"
     ]
    }
   ],
   "source": [
    "n =[1,2,3,4,5,-1,-2,-3,-4,-5]\n",
    "for i in n:\n",
    "    if i>0:\n",
    "     print(i)\n",
    "        \n",
    "        \n",
    "        \n",
    "        "
   ]
  },
  {
   "cell_type": "code",
   "execution_count": 69,
   "id": "4664681f-8715-48de-8423-c73f339d8d0a",
   "metadata": {},
   "outputs": [
    {
     "name": "stdout",
     "output_type": "stream",
     "text": [
      "-1\n",
      "-2\n",
      "-3\n",
      "-4\n",
      "-5\n"
     ]
    }
   ],
   "source": [
    "n =[1,2,3,4,5,-1,-2,-3,-4,-5]\n",
    "for i in n:\n",
    "    if i<0:\n",
    "     print(i)\n",
    "        "
   ]
  },
  {
   "cell_type": "code",
   "execution_count": 70,
   "id": "f9a23600-1c89-4bf2-bbff-1e4a5bbbaa9f",
   "metadata": {},
   "outputs": [
    {
     "name": "stdout",
     "output_type": "stream",
     "text": [
      "[1, 2, 3, 4, 5]\n"
     ]
    }
   ],
   "source": [
    "n =[1,2,3,4,5,-1,-2,-3,-4,-5]\n",
    "positive = [x for x in n if x>0]\n",
    "print(positive)"
   ]
  },
  {
   "cell_type": "code",
   "execution_count": 71,
   "id": "5c2e0f85-5b13-4329-aa58-df0b813263ed",
   "metadata": {},
   "outputs": [
    {
     "name": "stdout",
     "output_type": "stream",
     "text": [
      "[-1, -2, -3, -4, -5]\n"
     ]
    }
   ],
   "source": [
    "n =[1,2,3,4,5,-1,-2,-3,-4,-5]\n",
    "negetive = [ x for x in n if x<0]\n",
    "print(negetive)"
   ]
  },
  {
   "cell_type": "code",
   "execution_count": 72,
   "id": "53b6d447-941f-42e1-b9fd-1814652e3e93",
   "metadata": {},
   "outputs": [
    {
     "name": "stdout",
     "output_type": "stream",
     "text": [
      "5\n",
      "5\n"
     ]
    }
   ],
   "source": [
    "n =[1,2,3,4,5,-1,-2,-3,-4,-5]\n",
    "negetive = [ x for x in n if x<0]\n",
    "positive = [ x for x in n if x>0]\n",
    "print(len(negetive))\n",
    "print(len(positive))"
   ]
  },
  {
   "cell_type": "code",
   "execution_count": 73,
   "id": "85fd8a3c-a43c-4910-ada3-4f1af8dee975",
   "metadata": {},
   "outputs": [
    {
     "name": "stdout",
     "output_type": "stream",
     "text": [
      "0\n",
      "1\n",
      "2\n",
      "3\n",
      "4\n",
      "5\n",
      "6\n",
      "7\n",
      "8\n",
      "9\n"
     ]
    }
   ],
   "source": [
    "i = 0\n",
    "while i < 10:\n",
    "    print(i)\n",
    "    i +=1\n",
    "    "
   ]
  },
  {
   "cell_type": "code",
   "execution_count": 74,
   "id": "57cb5c1b-1594-417e-bf30-e6cef024d860",
   "metadata": {},
   "outputs": [
    {
     "name": "stdout",
     "output_type": "stream",
     "text": [
      "1\n",
      "2\n",
      "3\n"
     ]
    }
   ],
   "source": [
    "i = 1\n",
    "while i < 4:\n",
    "    print(i)\n",
    "    i+=1"
   ]
  },
  {
   "cell_type": "code",
   "execution_count": 75,
   "id": "dbb0311d-9e39-4ddd-bb71-3b8cfd103986",
   "metadata": {},
   "outputs": [
    {
     "name": "stdout",
     "output_type": "stream",
     "text": [
      "1\n",
      "2\n",
      "3\n",
      "4\n",
      "5\n"
     ]
    }
   ],
   "source": [
    "i = 1\n",
    "while i < 8:\n",
    "    print(i)\n",
    "    if (i==5):\n",
    "        break\n",
    "    i+=1\n",
    "    \n",
    "    "
   ]
  },
  {
   "cell_type": "code",
   "execution_count": 76,
   "id": "6cff0426-0905-4f24-8cb2-e94b142814a2",
   "metadata": {},
   "outputs": [
    {
     "name": "stdout",
     "output_type": "stream",
     "text": [
      "1\n",
      "2\n",
      "3\n"
     ]
    }
   ],
   "source": [
    "i = 1\n",
    "while i < 6:\n",
    "  print(i)\n",
    "  if (i == 3):\n",
    "    break\n",
    "  i += 1"
   ]
  },
  {
   "cell_type": "code",
   "execution_count": 77,
   "id": "4e39d253-dd70-40e9-974c-0c448ebf0d5e",
   "metadata": {},
   "outputs": [
    {
     "name": "stdout",
     "output_type": "stream",
     "text": [
      "1\n",
      "2\n",
      "3\n"
     ]
    }
   ],
   "source": [
    "\n",
    "     i = 1\n",
    "while i < 6:\n",
    "  print(i)\n",
    "  if (i == 3):\n",
    "    break\n",
    "  i += 1   "
   ]
  },
  {
   "cell_type": "code",
   "execution_count": 78,
   "id": "d33dcf76-2b34-495b-bb23-daa6ba95e9a7",
   "metadata": {},
   "outputs": [
    {
     "name": "stdout",
     "output_type": "stream",
     "text": [
      "1\n",
      "2\n",
      "4\n",
      "5\n",
      "6\n",
      "7\n",
      "8\n"
     ]
    }
   ],
   "source": [
    "i = 0\n",
    "while i < 8:\n",
    "    i +=1\n",
    "    if i ==3:\n",
    "        continue\n",
    "    print(i)"
   ]
  },
  {
   "cell_type": "code",
   "execution_count": 79,
   "id": "3e374b5c-98da-4835-a99a-ac49912f62c0",
   "metadata": {},
   "outputs": [
    {
     "name": "stdout",
     "output_type": "stream",
     "text": [
      "1\n",
      "2\n",
      "4\n",
      "5\n",
      "6\n"
     ]
    }
   ],
   "source": [
    "i = 0\n",
    "while i < 6:\n",
    "  i += 1\n",
    "  if i == 3:\n",
    "    continue\n",
    "  print(i)"
   ]
  },
  {
   "cell_type": "code",
   "execution_count": 80,
   "id": "da4755f4-d5aa-41c3-910e-e63096b70a82",
   "metadata": {},
   "outputs": [
    {
     "name": "stdout",
     "output_type": "stream",
     "text": [
      "1\n",
      "2\n",
      "3\n",
      "4\n",
      "5\n",
      "i is no longer than 6\n"
     ]
    }
   ],
   "source": [
    "i = 1\n",
    "while i < 6:\n",
    "    print(i)\n",
    "    i+=1\n",
    "else:\n",
    "    print(\"i is no longer than 6\")\n"
   ]
  },
  {
   "cell_type": "code",
   "execution_count": 81,
   "id": "3c08d590-a2ac-4943-baf9-3a122cfee303",
   "metadata": {},
   "outputs": [
    {
     "name": "stdout",
     "output_type": "stream",
     "text": [
      "1\n",
      "2\n",
      "3\n",
      "4\n",
      "5\n",
      "6\n",
      "7\n",
      "8\n"
     ]
    }
   ],
   "source": [
    "number= [1,2,3,4,5,6,7,8]\n",
    "for x in number:\n",
    "    print(x)"
   ]
  },
  {
   "cell_type": "code",
   "execution_count": 82,
   "id": "a8b5d352-c721-419c-b40c-d38ad8ebb3bd",
   "metadata": {},
   "outputs": [
    {
     "name": "stdout",
     "output_type": "stream",
     "text": [
      "b\n",
      "a\n",
      "n\n",
      "a\n",
      "n\n",
      "a\n"
     ]
    }
   ],
   "source": [
    "for x in \"banana\":\n",
    " print(x)"
   ]
  },
  {
   "cell_type": "code",
   "execution_count": 83,
   "id": "7ff318c2-90d7-4f0f-a3bb-5cb0cc81a14a",
   "metadata": {},
   "outputs": [
    {
     "name": "stdout",
     "output_type": "stream",
     "text": [
      "apple\n",
      "banana\n"
     ]
    }
   ],
   "source": [
    "L1 = [\"apple\",\"banana\",\"cherry\",\"mango\"]\n",
    "for x in L1:\n",
    "    print(x)\n",
    "    if x == \"banana\":\n",
    "        break\n",
    "        \n",
    "    "
   ]
  },
  {
   "cell_type": "code",
   "execution_count": 84,
   "id": "97716779-d12c-489e-b5a2-850811dfdff4",
   "metadata": {},
   "outputs": [
    {
     "name": "stdout",
     "output_type": "stream",
     "text": [
      "1\n",
      "2\n"
     ]
    }
   ],
   "source": [
    "n = [1,2,3,4,5,6]\n",
    "for x in n:\n",
    "    print(x)\n",
    "    if x==2:\n",
    "         break"
   ]
  },
  {
   "cell_type": "code",
   "execution_count": 85,
   "id": "2d2aafd2-e3d2-4cbb-85e5-bc40738a08db",
   "metadata": {},
   "outputs": [
    {
     "name": "stdout",
     "output_type": "stream",
     "text": [
      "apple\n",
      "mango\n",
      "cherry\n",
      "guava\n"
     ]
    }
   ],
   "source": [
    "n = [\"apple\",\"mango\",\"cherry\",\"guava\"]\n",
    "for x in n:\n",
    "    print(x)\n",
    "    if x==\"banana\":\n",
    "        continue"
   ]
  },
  {
   "cell_type": "code",
   "execution_count": 86,
   "id": "59b84083-ad42-45b2-8a09-4cece34f0b56",
   "metadata": {},
   "outputs": [
    {
     "name": "stdout",
     "output_type": "stream",
     "text": [
      "0\n",
      "1\n",
      "2\n",
      "3\n"
     ]
    }
   ],
   "source": [
    "for x in range(4):\n",
    " print(x)"
   ]
  },
  {
   "cell_type": "code",
   "execution_count": 87,
   "id": "ce2a2ddd-46c8-4f11-994a-3c7609cc668b",
   "metadata": {},
   "outputs": [
    {
     "name": "stdout",
     "output_type": "stream",
     "text": [
      "10\n",
      "11\n",
      "12\n",
      "13\n",
      "14\n",
      "15\n",
      "16\n",
      "17\n",
      "18\n",
      "19\n"
     ]
    }
   ],
   "source": [
    "for x in range(10,20):\n",
    " print(x)"
   ]
  },
  {
   "cell_type": "code",
   "execution_count": 88,
   "id": "db4ecfea-43ac-41d4-bb4b-f5b3b1ea0563",
   "metadata": {},
   "outputs": [
    {
     "name": "stdout",
     "output_type": "stream",
     "text": [
      "2\n",
      "4\n",
      "6\n",
      "8\n",
      "10\n",
      "12\n",
      "14\n",
      "16\n",
      "18\n"
     ]
    }
   ],
   "source": [
    "for x in range(2,20,2):\n",
    " print(x)"
   ]
  },
  {
   "cell_type": "code",
   "execution_count": 89,
   "id": "7df6f130-6d5f-48ac-a754-c2e134042820",
   "metadata": {},
   "outputs": [
    {
     "name": "stdout",
     "output_type": "stream",
     "text": [
      "0\n",
      "1\n",
      "2\n",
      "3\n",
      "4\n",
      "bs kar bsdk\n"
     ]
    }
   ],
   "source": [
    "for x in range(5):\n",
    "    print(x)\n",
    "else:\n",
    "    print(\"bs kar bsdk\")"
   ]
  },
  {
   "cell_type": "code",
   "execution_count": 90,
   "id": "65af125b-08ef-486f-9939-28c38aabb309",
   "metadata": {},
   "outputs": [
    {
     "name": "stdout",
     "output_type": "stream",
     "text": [
      "5\n",
      "6\n",
      "7\n",
      "8\n",
      "9\n",
      "10\n",
      "11\n",
      "12\n",
      "13\n",
      "14\n",
      "bs bhyi\n"
     ]
    }
   ],
   "source": [
    "for x in range(5,15):\n",
    "    print(x)\n",
    "else:\n",
    "    print(\"bs bhyi\")"
   ]
  },
  {
   "cell_type": "raw",
   "id": "0ad9f602-a40d-49ef-bbb2-905da1733b69",
   "metadata": {},
   "source": [
    "\n",
    "\n"
   ]
  },
  {
   "cell_type": "code",
   "execution_count": 91,
   "id": "bb4d79c1-576a-401c-9b92-a5ab6e4e365e",
   "metadata": {},
   "outputs": [
    {
     "name": "stdout",
     "output_type": "stream",
     "text": [
      "0\n",
      "1\n",
      "2\n"
     ]
    }
   ],
   "source": [
    "for x in range(6):\n",
    "  if x == 3: break\n",
    "  print(x)\n",
    "else:\n",
    "  print(\"Finally finished!\")"
   ]
  },
  {
   "cell_type": "code",
   "execution_count": 92,
   "id": "475d164a-7be3-4c42-9023-e4c2b4b70cf0",
   "metadata": {},
   "outputs": [
    {
     "name": "stdout",
     "output_type": "stream",
     "text": [
      "red apple\n",
      "red banana\n",
      "red cherry\n",
      "big apple\n",
      "big banana\n",
      "big cherry\n",
      "tasty apple\n",
      "tasty banana\n",
      "tasty cherry\n"
     ]
    }
   ],
   "source": [
    "adj = [\"red\", \"big\", \"tasty\"]\n",
    "fruits = [\"apple\", \"banana\", \"cherry\"]\n",
    "\n",
    "for x in adj:\n",
    "  for y in fruits:\n",
    "    print(x, y)\n"
   ]
  },
  {
   "cell_type": "code",
   "execution_count": 93,
   "id": "295f45df-4a62-4679-b6bd-d64f3fb4525e",
   "metadata": {},
   "outputs": [
    {
     "name": "stdout",
     "output_type": "stream",
     "text": [
      "incline bicep\n",
      "incline tericep\n",
      "incline back\n",
      "flat bicep\n",
      "flat tericep\n",
      "flat back\n",
      "cross bicep\n",
      "cross tericep\n",
      "cross back\n"
     ]
    }
   ],
   "source": [
    "bench = [\"incline\",\"flat\",\"cross\"]\n",
    "curl = [\"bicep\",\"tericep\",\"back\"]\n",
    "\n",
    "for x in bench:\n",
    "    for y in curl:\n",
    "        print(x,y)"
   ]
  },
  {
   "cell_type": "code",
   "execution_count": 94,
   "id": "128e5e92-5850-43c4-9ff8-ac457018f9cc",
   "metadata": {},
   "outputs": [
    {
     "name": "stdout",
     "output_type": "stream",
     "text": [
      "mama dada\n",
      "mama dadi\n",
      "mama bhua\n",
      "mami dada\n",
      "mami dadi\n",
      "mami bhua\n",
      "nani dada\n",
      "nani dadi\n",
      "nani bhua\n"
     ]
    }
   ],
   "source": [
    "maa = [\"mama\",\"mami\",\"nani\"]\n",
    "papa = [ \"dada\",\"dadi\",\"bhua\"]\n",
    "\n",
    "for x in maa:\n",
    "    for y in papa:\n",
    "        print(x,y)"
   ]
  },
  {
   "cell_type": "code",
   "execution_count": 95,
   "id": "4da3ee18-833d-4a6e-a69f-3e4467ba95a8",
   "metadata": {},
   "outputs": [
    {
     "name": "stdout",
     "output_type": "stream",
     "text": [
      "Google\n",
      "Meta\n",
      "Fujitsu\n",
      "Google\n",
      "Meta\n",
      "Fujitsu\n",
      "Google\n",
      "Meta\n",
      "Fujitsu\n"
     ]
    }
   ],
   "source": [
    "L2=[1,2,3]\n",
    "L3=[\"Google\",\"Meta\",\"Fujitsu\"]\n",
    "\n",
    "for x in L2:\n",
    "    for x in L3:\n",
    "        print(x)"
   ]
  },
  {
   "cell_type": "code",
   "execution_count": 96,
   "id": "9b440e24-cd75-426a-8fb8-5beb71ea14b2",
   "metadata": {},
   "outputs": [
    {
     "name": "stdout",
     "output_type": "stream",
     "text": [
      "its function\n"
     ]
    }
   ],
   "source": [
    "def my_function():\n",
    " print(\"its function\")\n",
    "\n",
    "my_function()"
   ]
  },
  {
   "cell_type": "code",
   "execution_count": 97,
   "id": "c736ac92-1f69-414c-9786-67e601600df9",
   "metadata": {},
   "outputs": [
    {
     "name": "stdout",
     "output_type": "stream",
     "text": [
      "gagan rathore\n"
     ]
    }
   ],
   "source": [
    "def my_function(fname):\n",
    "    print(fname + \"rathore\")\n",
    "\n",
    "my_function(\"gagan \")"
   ]
  },
  {
   "cell_type": "code",
   "execution_count": 98,
   "id": "344b3a8d-affa-494c-b5fd-6221883780aa",
   "metadata": {},
   "outputs": [
    {
     "name": "stdout",
     "output_type": "stream",
     "text": [
      "gagan rathore\n"
     ]
    }
   ],
   "source": [
    "def my_function(lname):\n",
    "    print(\"gagan\" + lname)\n",
    "\n",
    "my_function(\" rathore\")"
   ]
  },
  {
   "cell_type": "code",
   "execution_count": 100,
   "id": "001db9c9-9337-4b89-a0a0-9107a65bdcf1",
   "metadata": {},
   "outputs": [
    {
     "ename": "IndentationError",
     "evalue": "expected an indented block after 'while' statement on line 2 (3348218083.py, line 3)",
     "output_type": "error",
     "traceback": [
      "\u001b[1;36m  Cell \u001b[1;32mIn[100], line 3\u001b[1;36m\u001b[0m\n\u001b[1;33m    print(i)\u001b[0m\n\u001b[1;37m    ^\u001b[0m\n\u001b[1;31mIndentationError\u001b[0m\u001b[1;31m:\u001b[0m expected an indented block after 'while' statement on line 2\n"
     ]
    }
   ],
   "source": [
    "i = 1\n",
    "while i < 5:\n",
    "print(i)\n",
    "i= i + 1"
   ]
  }
 ],
 "metadata": {
  "kernelspec": {
   "display_name": "Python 3 (ipykernel)",
   "language": "python",
   "name": "python3"
  },
  "language_info": {
   "codemirror_mode": {
    "name": "ipython",
    "version": 3
   },
   "file_extension": ".py",
   "mimetype": "text/x-python",
   "name": "python",
   "nbconvert_exporter": "python",
   "pygments_lexer": "ipython3",
   "version": "3.12.4"
  }
 },
 "nbformat": 4,
 "nbformat_minor": 5
}
